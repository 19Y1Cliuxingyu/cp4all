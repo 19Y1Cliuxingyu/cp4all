{
  "nbformat": 4,
  "nbformat_minor": 0,
  "metadata": {
    "colab": {
      "name": "Python04 - Functions.ipynb",
      "provenance": []
    },
    "kernelspec": {
      "name": "python3",
      "display_name": "Python 3"
    }
  },
  "cells": [
    {
      "cell_type": "markdown",
      "metadata": {
        "id": "T2WJq3h5YVNA"
      },
      "source": [
        "# **Functions** \n",
        "A function is a reusable subprogram that performs a well defined task\n",
        "\n",
        "DRY - Don't Repeat Yourself\n",
        "\n",
        "Examples (system-defined): print(), input(), range(n), randint(low,high)\n",
        "\n",
        "We will create our own functions (user-defined)."
      ]
    },
    {
      "cell_type": "code",
      "metadata": {
        "id": "Ppvm2EMDtVj0",
        "outputId": "2e3fcee7-a751-40f5-da53-f12f5f7c9d5b",
        "colab": {
          "base_uri": "https://localhost:8080/",
          "height": 446
        }
      },
      "source": [
        "# Function - no parameters, no (explicit) return\n",
        "\n",
        "def menu():\n",
        "  print(\"(1) Add\")\n",
        "  print(\"(2) Update\")\n",
        "  print(\"(3) Delete\")\n",
        "  print(\"(4) Search\")\n",
        "  print(\"(0) Quit\")\n",
        "\n",
        "option = \"\"\n",
        "while option != '0':\n",
        "  menu()\n",
        "  option = input(\"Enter option: \")\n",
        "print(\"Bye\")\n"
      ],
      "execution_count": null,
      "outputs": [
        {
          "output_type": "stream",
          "text": [
            "(1) Add\n",
            "(2) Update\n",
            "(3) Delete\n",
            "(4) Search\n",
            "(0) Quit\n",
            "Enter option: 1\n",
            "(1) Add\n",
            "(2) Update\n",
            "(3) Delete\n",
            "(4) Search\n",
            "(0) Quit\n",
            "Enter option: 3\n",
            "(1) Add\n",
            "(2) Update\n",
            "(3) Delete\n",
            "(4) Search\n",
            "(0) Quit\n",
            "Enter option: 2\n",
            "(1) Add\n",
            "(2) Update\n",
            "(3) Delete\n",
            "(4) Search\n",
            "(0) Quit\n",
            "Enter option: 0\n",
            "Bye\n"
          ],
          "name": "stdout"
        }
      ]
    },
    {
      "cell_type": "code",
      "metadata": {
        "id": "Yc0ZLCGQxRo6",
        "outputId": "c9cbf712-0b7d-4115-d750-dc810e9aca40",
        "colab": {
          "base_uri": "https://localhost:8080/",
          "height": 69
        }
      },
      "source": [
        "# Function - return\n",
        "def negate(n):\n",
        "  return -n\n",
        "\n",
        "# main\n",
        "print(negate(5))\n",
        "print(negate(0))\n",
        "print(negate(-3))"
      ],
      "execution_count": null,
      "outputs": [
        {
          "output_type": "stream",
          "text": [
            "-5\n",
            "0\n",
            "3\n"
          ],
          "name": "stdout"
        }
      ]
    },
    {
      "cell_type": "code",
      "metadata": {
        "id": "-HxSFLZZYp1e",
        "outputId": "fbbe73f0-8979-4248-d972-d52e84ba7c20",
        "colab": {
          "base_uri": "https://localhost:8080/",
          "height": 52
        }
      },
      "source": [
        "# Function - 1 parameter\n",
        "# temperature checker\n",
        "def check_temperature(temperature):\n",
        "  if temperature >= 38.0:\n",
        "    return \"HOT!\"\n",
        "  else:\n",
        "    return \"Cool\"\n",
        "\n",
        "# main\n",
        "print(check_temperature(39))\n",
        "print(check_temperature(36.7))"
      ],
      "execution_count": null,
      "outputs": [
        {
          "output_type": "stream",
          "text": [
            "HOT!\n",
            "Cool\n"
          ],
          "name": "stdout"
        }
      ]
    },
    {
      "cell_type": "code",
      "metadata": {
        "id": "NxCt6l5dYuQn",
        "outputId": "2bdbef98-9335-43a0-96cb-9c159fc79c75",
        "colab": {
          "base_uri": "https://localhost:8080/",
          "height": 52
        }
      },
      "source": [
        "# Function - 2 parameters\n",
        "# display salutation with name\n",
        "def greet(name, gender):\n",
        "  if gender == 'F':\n",
        "    return \"Miss \" + name\n",
        "  else: # male\n",
        "    return \"Mr \" + name\n",
        "\n",
        "# main\n",
        "print(greet(\"Tom\", 'M'))\n",
        "print(greet(\"Mary\", 'F'))"
      ],
      "execution_count": null,
      "outputs": [
        {
          "output_type": "stream",
          "text": [
            "Mr Tom\n",
            "Miss Mary\n"
          ],
          "name": "stdout"
        }
      ]
    },
    {
      "cell_type": "code",
      "metadata": {
        "id": "QVkfd_JBj9gT",
        "outputId": "c489eaf6-daeb-44b0-a297-97dba8fdead9",
        "colab": {
          "base_uri": "https://localhost:8080/",
          "height": 52
        }
      },
      "source": [
        "# if a function does not have a return statement\n",
        "# it will actually return None\n",
        "def boliao(message):\n",
        "  print(message)\n",
        "\n",
        "# main\n",
        "print(boliao(\"Yo!\"))"
      ],
      "execution_count": null,
      "outputs": [
        {
          "output_type": "stream",
          "text": [
            "Yo!\n",
            "None\n"
          ],
          "name": "stdout"
        }
      ]
    },
    {
      "cell_type": "markdown",
      "metadata": {
        "id": "C_OD61P8Za1Z"
      },
      "source": [
        "## **Exercise: Prime**\n",
        "\n",
        "Write a function is_prime(n) to test whether a number n is prime.\n",
        "\n",
        "By definition, a number is prime if it is only divisible by 1 and itself.\n",
        "By definition, 1 is not prime.\n",
        "\n",
        "Hint: use %"
      ]
    },
    {
      "cell_type": "code",
      "metadata": {
        "id": "nDUDhePVZqlE",
        "outputId": "a57c5402-53fc-44cb-9761-9aa6169cd178",
        "colab": {
          "base_uri": "https://localhost:8080/",
          "height": 121
        }
      },
      "source": [
        "def is_prime(n):\n",
        "  if n == 1:\n",
        "    return False\n",
        "  for i in range(2, n):\n",
        "    if n % i == 0: # found a divisor i\n",
        "      return False\n",
        "  return True\n",
        "\n",
        "# main\n",
        "print(is_prime(1))\n",
        "print(is_prime(2))\n",
        "print(is_prime(3))\n",
        "print(is_prime(5))\n",
        "print(is_prime(35))\n",
        "print(is_prime(83))"
      ],
      "execution_count": null,
      "outputs": [
        {
          "output_type": "stream",
          "text": [
            "False\n",
            "True\n",
            "True\n",
            "True\n",
            "False\n",
            "True\n"
          ],
          "name": "stdout"
        }
      ]
    },
    {
      "cell_type": "markdown",
      "metadata": {
        "id": "HGHlarxsZDkR"
      },
      "source": [
        "# **Import**\n",
        "Reuse, do not reinvent the wheel"
      ]
    },
    {
      "cell_type": "code",
      "metadata": {
        "id": "M-6WYoybZPL8",
        "outputId": "859d591d-c25d-4949-fdee-180952938ace",
        "colab": {
          "base_uri": "https://localhost:8080/",
          "height": 52
        }
      },
      "source": [
        "# math\n",
        "import math\n",
        "\n",
        "radius = 5\n",
        "circumference = 2 * math.pi * radius \n",
        "print(circumference)\n",
        "math.pi\n"
      ],
      "execution_count": null,
      "outputs": [
        {
          "output_type": "stream",
          "text": [
            "31.41592653589793\n"
          ],
          "name": "stdout"
        },
        {
          "output_type": "execute_result",
          "data": {
            "text/plain": [
              "3.141592653589793"
            ]
          },
          "metadata": {
            "tags": []
          },
          "execution_count": 17
        }
      ]
    },
    {
      "cell_type": "code",
      "metadata": {
        "id": "eBJRuQB1lhlp",
        "outputId": "0dbf3a8e-acde-4d5c-a282-5d184a7a600f",
        "colab": {
          "base_uri": "https://localhost:8080/",
          "height": 52
        }
      },
      "source": [
        "from math import pi\n",
        "\n",
        "radius = 5\n",
        "circumference = 2 * pi * radius \n",
        "print(circumference)\n",
        "pi\n"
      ],
      "execution_count": null,
      "outputs": [
        {
          "output_type": "stream",
          "text": [
            "31.41592653589793\n"
          ],
          "name": "stdout"
        },
        {
          "output_type": "execute_result",
          "data": {
            "text/plain": [
              "3.141592653589793"
            ]
          },
          "metadata": {
            "tags": []
          },
          "execution_count": 18
        }
      ]
    },
    {
      "cell_type": "code",
      "metadata": {
        "id": "_lQj4zIka9CT",
        "outputId": "6287e468-0fc2-4f87-dbc4-a5c73b0aac6f",
        "colab": {
          "base_uri": "https://localhost:8080/",
          "height": 35
        }
      },
      "source": [
        "# random\n",
        "import random\n",
        "\n",
        "print(random.randint(1, 10))\n"
      ],
      "execution_count": null,
      "outputs": [
        {
          "output_type": "stream",
          "text": [
            "7\n"
          ],
          "name": "stdout"
        }
      ]
    },
    {
      "cell_type": "code",
      "metadata": {
        "id": "tyW_NC7HmETg",
        "outputId": "562d4282-4b3a-46ae-8b70-97f2432283d1",
        "colab": {
          "base_uri": "https://localhost:8080/",
          "height": 35
        }
      },
      "source": [
        "# random\n",
        "from random import randint\n",
        "\n",
        "print(randint(1, 10))"
      ],
      "execution_count": null,
      "outputs": [
        {
          "output_type": "stream",
          "text": [
            "4\n"
          ],
          "name": "stdout"
        }
      ]
    },
    {
      "cell_type": "code",
      "metadata": {
        "id": "gf37bqBabLfv",
        "outputId": "12d7bd18-cb48-4c8d-d01b-017333dbfb06",
        "colab": {
          "base_uri": "https://localhost:8080/",
          "height": 35
        }
      },
      "source": [
        "# user-defined function eg temp.py\n",
        "import temp\n",
        "\n",
        "temp.check_temperature(38)\n"
      ],
      "execution_count": null,
      "outputs": [
        {
          "output_type": "execute_result",
          "data": {
            "text/plain": [
              "'HOT!'"
            ]
          },
          "metadata": {
            "tags": []
          },
          "execution_count": 22
        }
      ]
    },
    {
      "cell_type": "code",
      "metadata": {
        "id": "B08AzZLdnTUv"
      },
      "source": [
        ""
      ],
      "execution_count": null,
      "outputs": []
    }
  ]
}