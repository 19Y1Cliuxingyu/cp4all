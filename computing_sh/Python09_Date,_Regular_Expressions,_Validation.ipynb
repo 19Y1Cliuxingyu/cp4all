{
  "nbformat": 4,
  "nbformat_minor": 0,
  "metadata": {
    "colab": {
      "name": "Python09 - Date, Regular Expressions, Validation",
      "provenance": [],
      "collapsed_sections": []
    },
    "kernelspec": {
      "name": "python3",
      "display_name": "Python 3"
    }
  },
  "cells": [
    {
      "cell_type": "markdown",
      "metadata": {
        "id": "wdWmSjnLNLfP"
      },
      "source": [
        "# **Date, Regular Expressions, Validation**"
      ]
    },
    {
      "cell_type": "markdown",
      "metadata": {
        "id": "igd_f_UuNSuN"
      },
      "source": [
        "## **Date**\n",
        "\n",
        "* often need to manage date in programs\n",
        "* eg date of creation/update, loan/due date\n",
        "* common tasks \n",
        "  * generate current system date\n",
        "  * read date from keyboard / file\n",
        "  * date arithmetic\n",
        "  * write date to display / file\n"
      ]
    },
    {
      "cell_type": "code",
      "metadata": {
        "id": "TexGMk9ONF4e"
      },
      "source": [
        "# datetime module has many useful functions to manipulate date and time, so use it.\n",
        "import datetime"
      ],
      "execution_count": null,
      "outputs": []
    },
    {
      "cell_type": "code",
      "metadata": {
        "id": "4MKknisiNv4A",
        "outputId": "4ed27959-dab0-4eeb-89a8-6fab045deda8",
        "colab": {
          "base_uri": "https://localhost:8080/",
          "height": 35
        }
      },
      "source": [
        "# current system date\n",
        "current_date = datetime.date.today()\n",
        "current_date\n",
        "# current date is a datetime date object giving year, month and day eg datetime.date(2012, 2, 10)"
      ],
      "execution_count": null,
      "outputs": [
        {
          "output_type": "execute_result",
          "data": {
            "text/plain": [
              "datetime.date(2020, 3, 26)"
            ]
          },
          "metadata": {
            "tags": []
          },
          "execution_count": 2
        }
      ]
    },
    {
      "cell_type": "code",
      "metadata": {
        "id": "KiYUsHuD0P8_",
        "outputId": "600095b1-47ba-4031-f6c9-0bf1c4ba89c8",
        "colab": {
          "base_uri": "https://localhost:8080/",
          "height": 52
        }
      },
      "source": [
        "type(current_date)\n",
        "print(type(current_date.day))\n",
        "current_date.month\n",
        "current_date.year"
      ],
      "execution_count": null,
      "outputs": [
        {
          "output_type": "stream",
          "text": [
            "<class 'int'>\n"
          ],
          "name": "stdout"
        },
        {
          "output_type": "execute_result",
          "data": {
            "text/plain": [
              "2020"
            ]
          },
          "metadata": {
            "tags": []
          },
          "execution_count": 8
        }
      ]
    },
    {
      "cell_type": "markdown",
      "metadata": {
        "id": "oLzjqFOFN-dV"
      },
      "source": [
        "## **Formatting dates**"
      ]
    },
    {
      "cell_type": "code",
      "metadata": {
        "id": "BATD0YxYOBRK",
        "outputId": "a1f52215-d0b7-4fed-d582-e927ded386d7",
        "colab": {
          "base_uri": "https://localhost:8080/",
          "height": 35
        }
      },
      "source": [
        "# return date as string\n",
        "current_date.isoformat()\n",
        "\n",
        "'2020-03-26' > '2020-04-01'"
      ],
      "execution_count": null,
      "outputs": [
        {
          "output_type": "execute_result",
          "data": {
            "text/plain": [
              "False"
            ]
          },
          "metadata": {
            "tags": []
          },
          "execution_count": 10
        }
      ]
    },
    {
      "cell_type": "code",
      "metadata": {
        "id": "HZ9MSG6FOIY9",
        "outputId": "b41a9079-5709-4021-eef3-6ab3ca073169",
        "colab": {
          "base_uri": "https://localhost:8080/",
          "height": 87
        }
      },
      "source": [
        "# conversion to different formats\n",
        "print(current_date.strftime('%d-%m-%y'))\n",
        "print(current_date.strftime('%d-%m-%Y'))\n",
        "print(current_date.strftime('%d%m%Y'))\n",
        "print(current_date.strftime('%Y%m%d'))"
      ],
      "execution_count": null,
      "outputs": [
        {
          "output_type": "stream",
          "text": [
            "26-03-20\n",
            "26-03-2020\n",
            "26032020\n",
            "20200326\n"
          ],
          "name": "stdout"
        }
      ]
    },
    {
      "cell_type": "code",
      "metadata": {
        "id": "l5AEr9wQOMwX",
        "outputId": "4f005444-611d-4205-dad9-f33f8fa9e844",
        "colab": {
          "base_uri": "https://localhost:8080/",
          "height": 52
        }
      },
      "source": [
        "# days of week and month\n",
        "print(current_date.strftime('%A %d %B %Y'))\n",
        "print(current_date.strftime('%a %d %b %Y'))"
      ],
      "execution_count": null,
      "outputs": [
        {
          "output_type": "stream",
          "text": [
            "Thursday 26 March 2020\n",
            "Thu 26 Mar 2020\n"
          ],
          "name": "stdout"
        }
      ]
    },
    {
      "cell_type": "code",
      "metadata": {
        "id": "3PMzMCE4OS2x",
        "outputId": "611ee232-a0fa-4216-e221-cb5340b8817b",
        "colab": {
          "base_uri": "https://localhost:8080/",
          "height": 52
        }
      },
      "source": [
        "# check for valid date\n",
        "date = input(\"Enter date in DD-MM-YYYY: \")\n",
        "\n",
        "try: # normal processing\n",
        "  valid_date = datetime.datetime.strptime(date, \"%d-%m-%Y\") # p - parse\n",
        "  print(\"date ok\")\n",
        "except ValueError: # if error happens\n",
        "  print(\"Invalid date dude\")"
      ],
      "execution_count": null,
      "outputs": [
        {
          "output_type": "stream",
          "text": [
            "Enter date in DD-MM-YYYY: 31-04-2020\n",
            "Invalid date dude\n"
          ],
          "name": "stdout"
        }
      ]
    },
    {
      "cell_type": "markdown",
      "metadata": {
        "id": "imjodcO_OYzn"
      },
      "source": [
        "**Exercise**  \n",
        "Write a program to generate today's date and format the date in the following format:\n",
        "* DD-MM-YYYY\n",
        "* DDMMYY\n",
        "* YYMMDD\n",
        "* <day of week> day month year in full eg Saturday 12 March 2011\n",
        "* <day of week> day month year in short eg Sat 12 Mar 2011 \n"
      ]
    },
    {
      "cell_type": "code",
      "metadata": {
        "id": "2-iAnggzOivB"
      },
      "source": [
        ""
      ],
      "execution_count": null,
      "outputs": []
    },
    {
      "cell_type": "markdown",
      "metadata": {
        "id": "FfqAIWyrOoSk"
      },
      "source": [
        "## **Validation**\n",
        "Workflow  \n",
        "* loop to get valid data\n",
        "* if user provides invalid data, prompt error message and allow re-entry\n",
        "* until user provides valid data \n"
      ]
    },
    {
      "cell_type": "markdown",
      "metadata": {
        "id": "5ciWXz_qPAKe"
      },
      "source": [
        "Example: Age validation  \n",
        "valid range for age 1 - 100 \n",
        "\n",
        "Pseudocode:  \n",
        "``` \n",
        "set boolean valid_age to false \n",
        "loop until valid_age is true\n",
        "    get age\n",
        "    if empty input display empty input message and allow re-entry\n",
        "    if not a number display wrong data type and allow re-entry\n",
        "    if not within valid range display invalid range and allow re-entry\n",
        "    else set valid_age to true \n",
        "```\n"
      ]
    },
    {
      "cell_type": "code",
      "metadata": {
        "id": "8qzT8vKWOjQs",
        "outputId": "dbc5ea08-f273-45b0-bb2c-30fd4c539120",
        "colab": {
          "base_uri": "https://localhost:8080/",
          "height": 156
        }
      },
      "source": [
        "# age validation\n",
        "# set boolean valid_age to false\n",
        "valid_age = False \n",
        "# loop until valid_age is true\n",
        "while not valid_age: \n",
        "    # get age\n",
        "    age = input(\"Enter age (1-100): \")\n",
        "    # if empty input display empty input message and allow re-entry\n",
        "    if len(age) == 0: # presence check\n",
        "      print(\"Empty input. Try again.\")\n",
        "    # if not a number display wrong data type and allow re-entry\n",
        "    elif not age.isdigit(): # data type check\n",
        "      print(\"Age is a number. Try again.\")\n",
        "    # if not within valid range display invalid range and allow re-entry\n",
        "    elif not (1 <= int(age) <= 100): # range check\n",
        "      print(\"Are you human? Try again.\")\n",
        "    # else set valid_age to true \n",
        "    else:\n",
        "      valid_age = True\n",
        "print(\"Great job! You are\", age)"
      ],
      "execution_count": null,
      "outputs": [
        {
          "output_type": "stream",
          "text": [
            "Enter age (1-100): \n",
            "Empty input. Try again.\n",
            "Enter age (1-100): abc\n",
            "Age is a number. Try again.\n",
            "Enter age (1-100): 999\n",
            "Are you human? Try again.\n",
            "Enter age (1-100): 17\n",
            "Great job! You are 17\n"
          ],
          "name": "stdout"
        }
      ]
    },
    {
      "cell_type": "markdown",
      "metadata": {
        "id": "Ged02SJbSd3K"
      },
      "source": [
        "## **Regular Expressions**\n",
        "* a powerful mechanism to check against patterns\n",
        "* used in data validation to avoid complicated (nested) if-else statements\n"
      ]
    },
    {
      "cell_type": "code",
      "metadata": {
        "id": "IO3L1efDSlpe",
        "outputId": "9ca73a3d-097d-48ba-9242-b6c06dec87f5",
        "colab": {
          "base_uri": "https://localhost:8080/",
          "height": 51
        }
      },
      "source": [
        "# gender validation\n",
        "import re\n",
        "\n",
        "# get gender\n",
        "gender = input(\"Enter gender: \")\n",
        "\n",
        "# accept both upper and lowercase f and m\n",
        "pattern = re.compile(\"[fFmM]\")\n",
        "\n",
        "if pattern.match(gender):\n",
        "  print(\"Cool! You are not in between\")\n",
        "else:\n",
        "  print(\"Oh. LGBT ftw.\")"
      ],
      "execution_count": null,
      "outputs": [
        {
          "output_type": "stream",
          "text": [
            "Enter gender: k\n",
            "Oh. LGBT ftw.\n"
          ],
          "name": "stdout"
        }
      ]
    },
    {
      "cell_type": "code",
      "metadata": {
        "id": "pHiklrbISvW1",
        "outputId": "cca44031-ca69-4228-9556-31bdb7401652",
        "colab": {
          "base_uri": "https://localhost:8080/",
          "height": 51
        }
      },
      "source": [
        "# NRIC validation\n",
        "import re\n",
        "\n",
        "# get nric\n",
        "nric = input(\"Enter NRIC: \")\n",
        "\n",
        "# ^ - starts with, {n} - exactly n times, $ - ends with \n",
        "pattern = re.compile(\"^[sStTfFgG][0-9]{7}[a-zA-Z]$\")\n",
        "\n",
        "if pattern.match(nric):\n",
        "  print(\"Welcome to Singapore!\")\n",
        "else:\n",
        "  print(\"Thank you very much.\")"
      ],
      "execution_count": null,
      "outputs": [
        {
          "output_type": "stream",
          "text": [
            "Enter NRIC: A1234567H\n",
            "Thank you very much.\n"
          ],
          "name": "stdout"
        }
      ]
    },
    {
      "cell_type": "markdown",
      "metadata": {
        "id": "kHMiDksEs3pn"
      },
      "source": [
        "**NRIC validation (cont'd)**\n",
        "\n",
        "The check digit of a Singapore-based NRIC is actually derived from modulo arithmetic\n",
        "\n",
        "Write a program to validate a user-input NRIC. Your program should contain\n",
        "\n",
        "* a function to return the check alphabet of a NRIC\n",
        "* a boolean function to determine if a user-input NRIC is valid\n",
        "\n",
        "Reference:\n",
        "http://coding-and-crypto.tripod.com/01NRIC.htm "
      ]
    },
    {
      "cell_type": "code",
      "metadata": {
        "id": "rRCKtg5jtBgL"
      },
      "source": [
        ""
      ],
      "execution_count": null,
      "outputs": []
    },
    {
      "cell_type": "markdown",
      "metadata": {
        "id": "HEvJVuxztvAn"
      },
      "source": [
        "**Modulo Arithmetic Validation**  \n",
        "\n",
        "Modulo arithmetic is used in many real-life situations:\n",
        "\n",
        "* Singapore NRIC\n",
        "* Singapore car plate registration number\n",
        "* book ISBN\n",
        "* credit card number\n",
        "* etc.\n",
        "\n",
        "You will be encountering more modulo arithmetic exercises (hint).\n"
      ]
    },
    {
      "cell_type": "markdown",
      "metadata": {
        "id": "2rdOTtlvtSRu"
      },
      "source": [
        "**Exercise**  \n",
        "Write a program to get a student's nric, name, class, gender, date of birth, weight (in kg) and height (in metres). Your program should perform the necessary validation. Save your program to a file STUDENTS.DAT in append mode using the following structure:\n",
        "```\n",
        "<NRIC><name><class><gender><dob><weight><height>\n",
        "```\n",
        "* class is in the form <YY>Y<9>C<99> eg 20Y5C23\n",
        "* name is at most 30 characters\n",
        "* date of birth is in DD-MM-YYYY format\n",
        " \n",
        "sample record:\n",
        "```\n",
        "S1234567ALim Ah Seng ... M20Y5C35 701.73\n",
        "```"
      ]
    },
    {
      "cell_type": "code",
      "metadata": {
        "id": "XuZ38Rmdtl4W"
      },
      "source": [
        ""
      ],
      "execution_count": null,
      "outputs": []
    }
  ]
}