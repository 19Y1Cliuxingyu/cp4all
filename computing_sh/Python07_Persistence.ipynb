{
  "nbformat": 4,
  "nbformat_minor": 0,
  "metadata": {
    "colab": {
      "name": "Python07 - Persistence.ipynb",
      "provenance": [],
      "collapsed_sections": []
    },
    "kernelspec": {
      "name": "python3",
      "display_name": "Python 3"
    }
  },
  "cells": [
    {
      "cell_type": "markdown",
      "metadata": {
        "id": "gK9giE5qxqch"
      },
      "source": [
        "# **Persistence**\n",
        "\n",
        "more efficient to\n",
        "* input large amount of data from disk to save manual tedious data entry\n",
        "* output result to disk for ease of future reference\n",
        "  \n",
        "\n",
        "3 modes\n",
        "* **r**ead from file\n",
        "* **w**rite to file\n",
        "* **a**ppend to an existing file"
      ]
    },
    {
      "cell_type": "markdown",
      "metadata": {
        "id": "53mIlsHCPWIS"
      },
      "source": [
        "**Reading**\n",
        "\n",
        "* open the file in read mode\n",
        "* default is read mode\n",
        "* if file does not exists, file not found error\n",
        "\n",
        "\n"
      ]
    },
    {
      "cell_type": "code",
      "metadata": {
        "id": "wscn8rXRPc6p"
      },
      "source": [
        "infile = open(\"DATA.TXT\", 'r')"
      ],
      "execution_count": null,
      "outputs": []
    },
    {
      "cell_type": "markdown",
      "metadata": {
        "id": "4RFvkjs0P-YF"
      },
      "source": [
        "Each line is read in as a text string\n",
        "use assignment (and string slicing operations) to read into variables \n"
      ]
    },
    {
      "cell_type": "code",
      "metadata": {
        "id": "LuqiB6z7QIs8"
      },
      "source": [
        "# read one line\n",
        "line = infile.readline()\n",
        "\n",
        "# read all lines\n",
        "lines = infile.readlines()"
      ],
      "execution_count": null,
      "outputs": []
    },
    {
      "cell_type": "markdown",
      "metadata": {
        "id": "X_7RY1fbQcGa"
      },
      "source": [
        "**File input example**\n",
        "\n",
        "Read from a text file NUMBERS.DAT which contains one integer per line. Compute and display the average of the numbers.\n"
      ]
    },
    {
      "cell_type": "code",
      "metadata": {
        "id": "hg4yxp2NQmmP"
      },
      "source": [
        "infile = open(\"NUMBERS.DAT\", 'r')\n",
        "\n",
        "lines = infile.readlines()\n",
        "\n",
        "n = 0\n",
        "total = 0\n",
        "for num in lines:\n",
        "    total = total + int(num)\n",
        "    n = n + 1 \n",
        "\n",
        "print(total / n)\n",
        "\n",
        "infile.close()"
      ],
      "execution_count": null,
      "outputs": []
    },
    {
      "cell_type": "markdown",
      "metadata": {
        "id": "a7exME-NSv-j"
      },
      "source": [
        "**Writing**\n",
        "\n",
        "\n",
        "\n",
        "* open the file in write mode\n",
        "* if file does not exist, a new file will be created\n",
        "* **BE CAREFUL:** if file already exists, it will be overwritten (all previous contents gone!)\n"
      ]
    },
    {
      "cell_type": "code",
      "metadata": {
        "id": "atkueG2-SxU2"
      },
      "source": [
        "outfile = open(\"DATA.TXT\", 'w')"
      ],
      "execution_count": null,
      "outputs": []
    },
    {
      "cell_type": "markdown",
      "metadata": {
        "id": "EW4xNAqkTU6V"
      },
      "source": [
        "\n",
        "* write() is similar to print(), except it does not include newline character (hence the \\n)\n",
        "* data is written as text string\n"
      ]
    },
    {
      "cell_type": "code",
      "metadata": {
        "id": "buSPHcuETlkj"
      },
      "source": [
        "# write name and age to output file \n",
        "outfile.write(\"Lim Ah Seng\")\n",
        "outfile.write(\"17\")\n",
        "outfile.write(\"\\n\") # newline character"
      ],
      "execution_count": null,
      "outputs": []
    },
    {
      "cell_type": "markdown",
      "metadata": {
        "id": "6G2snF6OTQvX"
      },
      "source": [
        "**Appending**\n",
        "\n",
        "* open the file in append mode\n",
        "* if file does not exist, a new file will be created\n",
        "* if file already exists, new content will be added to the end of the file\n"
      ]
    },
    {
      "cell_type": "code",
      "metadata": {
        "id": "RX8z0bAeT3-d"
      },
      "source": [
        "outfile = open(\"DATA.TXT\", 'a')"
      ],
      "execution_count": null,
      "outputs": []
    },
    {
      "cell_type": "markdown",
      "metadata": {
        "id": "rNxkkg6IUZtk"
      },
      "source": [
        "**Closing**\n",
        "\n",
        "* remember to close all files at the end of your program\n",
        "* commit all memory operations to disk (especially for write/append) \n",
        "* release storage\n",
        "* unlock files"
      ]
    },
    {
      "cell_type": "code",
      "metadata": {
        "id": "Wz_-1LrtUkmp"
      },
      "source": [
        "infile.close()\n",
        "outfile.close()"
      ],
      "execution_count": null,
      "outputs": []
    },
    {
      "cell_type": "markdown",
      "metadata": {
        "id": "CaxTNfW_VtcF"
      },
      "source": [
        "## **Flat Files**\n",
        "\n",
        "**Fixed length records**  \n",
        "```\n",
        "<id><name>      <dob>     <email>              <mobile>\n",
        "1   Lim Ah Seng 1995-01-01limahseng@hotmail.com12345678\n",
        "2   Tan Ah Lian 1995-12-31tanahlian@yahoo.com  87654321\n",
        "```\n",
        "\n",
        "**Variable length records**  \n",
        "```\n",
        "id,name,dob,email,mobile\n",
        "1,Lim Ah Seng,1995-01-01,limahseng@hotmail.com,12345678\n",
        "2,Tan Ah Lian,1995-12-31,tanahlian@yahoo.com,87654321\n",
        "```"
      ]
    },
    {
      "cell_type": "markdown",
      "metadata": {
        "id": "jV4y0GtgW1NA"
      },
      "source": [
        "**Fixed length records (Read)**\n",
        "* read line as text string and use slicing"
      ]
    },
    {
      "cell_type": "code",
      "metadata": {
        "id": "KOmHcy_CW94f"
      },
      "source": [
        "# read all lines\n",
        "records = infile.readlines()\n",
        " \n",
        "# process each line\n",
        "for record in records:\n",
        "  rid = record[0:1]\n",
        "  name = record[1:21]\n",
        "  dob = record[21:31]\n",
        "  email = record[31:61]\n",
        "  mobile = record[61:69]\n"
      ],
      "execution_count": null,
      "outputs": []
    },
    {
      "cell_type": "markdown",
      "metadata": {
        "id": "jFw-5Ki3XAVN"
      },
      "source": [
        "**Fixed length records (Write)**\n",
        "* write line as text string with formatting\n",
        "* to include new line character"
      ]
    },
    {
      "cell_type": "code",
      "metadata": {
        "id": "SEgh6e2fXR8S"
      },
      "source": [
        "outfile.write(\"{0}{1:12s}{2}{3}{4}\\n\".format(1, \"Lim Ah Seng\", \"1995-01-01\", \"limahseng@hotmail.com\", \"12345678\"))"
      ],
      "execution_count": null,
      "outputs": []
    },
    {
      "cell_type": "markdown",
      "metadata": {
        "id": "z049IVFuXoxQ"
      },
      "source": [
        "**Variable length records**\n",
        "* delimited file eg csv (comma separated variables)\n",
        "* use Python's csv module\n"
      ]
    },
    {
      "cell_type": "code",
      "metadata": {
        "id": "OEOSXuTJXvqQ"
      },
      "source": [
        "import csv\n",
        "\n",
        "with open(\"person1.csv\", 'r', newline=\"\") as infile:\n",
        "\trecords = csv.reader(infile, delimiter=\",\")\n",
        "\tfor record in records:\n",
        "    \tprint(\"ID:\", record[0])\n",
        "    \tprint(\"Name:\", record[1])\n",
        "    \tprint(\"DOB:\", record[2])\n",
        "    \tprint(\"Email:\", record[3])\n",
        "     print(\"Mobile:\", record[4])"
      ],
      "execution_count": null,
      "outputs": []
    },
    {
      "cell_type": "code",
      "metadata": {
        "id": "GVr33FQodtPB"
      },
      "source": [
        "import csv\n",
        "\n",
        "with open(\"uperson.csv\", \"w\", newline=\"\") as outfile:\n",
        "\twriter = csv.writer(outfile, delimiter=\",\")\n",
        "\twriter.writerows([\n",
        "\t(1, 'Lim Ah Seng', '1995-01-01', 'limahseng@hotmail.com', '12345678'),\n",
        "\t(2, 'Tan Ah Lian', '1995-12-31', 'tanahlian@yahoo.com', '87654321')])"
      ],
      "execution_count": null,
      "outputs": []
    },
    {
      "cell_type": "markdown",
      "metadata": {
        "id": "DfRig1Lgk3Ne"
      },
      "source": [
        "## **JSON**\n",
        "* JavaScript Object Notation\n"
      ]
    },
    {
      "cell_type": "code",
      "metadata": {
        "id": "dEL27qyh8fwL",
        "outputId": "7944ee9d-89c8-4368-da5d-8dbf3a85d9ee",
        "colab": {
          "base_uri": "https://localhost:8080/",
          "height": 34
        }
      },
      "source": [
        "import json\n",
        "\n",
        "# Python data (can be int, float, string, unicode, list, dictionary, tuple)\n",
        "pdata = [{'a': 1, 'c': 3, 'b': 2}]\n",
        "print(pdata)"
      ],
      "execution_count": null,
      "outputs": [
        {
          "output_type": "stream",
          "text": [
            "[{'a': 1, 'c': 3, 'b': 2}]\n"
          ],
          "name": "stdout"
        }
      ]
    },
    {
      "cell_type": "code",
      "metadata": {
        "id": "97-gJzGq77q0",
        "outputId": "8ed962f8-8769-4e49-fd21-99a134f881d6",
        "colab": {
          "base_uri": "https://localhost:8080/",
          "height": 34
        }
      },
      "source": [
        "# encode (python to json)\n",
        "encoded = json.dumps(pdata)\n",
        "encoded"
      ],
      "execution_count": null,
      "outputs": [
        {
          "output_type": "execute_result",
          "data": {
            "text/plain": [
              "'[{\"a\": 1, \"c\": 3, \"b\": 2}]'"
            ]
          },
          "metadata": {
            "tags": []
          },
          "execution_count": 11
        }
      ]
    },
    {
      "cell_type": "code",
      "metadata": {
        "id": "0NOjM6zx80Ip",
        "outputId": "494bc904-e1e8-4a05-ec40-f231bffc0f48",
        "colab": {
          "base_uri": "https://localhost:8080/",
          "height": 34
        }
      },
      "source": [
        "# encode (python to json with sorting)\n",
        "encoded = json.dumps(pdata, sort_keys=True)\n",
        "encoded"
      ],
      "execution_count": null,
      "outputs": [
        {
          "output_type": "execute_result",
          "data": {
            "text/plain": [
              "'[{\"a\": 1, \"b\": 2, \"c\": 3}]'"
            ]
          },
          "metadata": {
            "tags": []
          },
          "execution_count": 13
        }
      ]
    },
    {
      "cell_type": "code",
      "metadata": {
        "id": "Pcxk0XKu9Mws",
        "outputId": "f48688ef-7a8b-498f-9c2a-c98fc1c86274",
        "colab": {
          "base_uri": "https://localhost:8080/",
          "height": 136
        }
      },
      "source": [
        "# encode (python to json with sorting and formatting)\n",
        "encoded = json.dumps(pdata, sort_keys=True, indent=2)\n",
        "print(encoded)"
      ],
      "execution_count": null,
      "outputs": [
        {
          "output_type": "stream",
          "text": [
            "[\n",
            "  {\n",
            "    \"a\": 1,\n",
            "    \"b\": 2,\n",
            "    \"c\": 3\n",
            "  }\n",
            "]\n"
          ],
          "name": "stdout"
        }
      ]
    },
    {
      "cell_type": "code",
      "metadata": {
        "id": "0J8Mjv968P5b",
        "outputId": "112e39e2-4e24-4318-ea1f-0909fd162901",
        "colab": {
          "base_uri": "https://localhost:8080/",
          "height": 51
        }
      },
      "source": [
        "# JSON data (string)\n",
        "jdata = '[{\"a\": 1, \"b\": 2, \"c\": 3}]'\n",
        "\n",
        "# decode (json to python)\n",
        "decoded = json.loads(jdata)\n",
        "print(decoded)\n",
        "type(decoded)"
      ],
      "execution_count": null,
      "outputs": [
        {
          "output_type": "stream",
          "text": [
            "[{'a': 1, 'b': 2, 'c': 3}]\n"
          ],
          "name": "stdout"
        },
        {
          "output_type": "execute_result",
          "data": {
            "text/plain": [
              "list"
            ]
          },
          "metadata": {
            "tags": []
          },
          "execution_count": 17
        }
      ]
    },
    {
      "cell_type": "code",
      "metadata": {
        "id": "wIrcExy7950f",
        "outputId": "f9c6e2d7-6e03-41ba-9eb5-1ab57f7dd278",
        "colab": {
          "base_uri": "https://localhost:8080/",
          "height": 34
        }
      },
      "source": [
        "type(decoded[0])"
      ],
      "execution_count": null,
      "outputs": [
        {
          "output_type": "execute_result",
          "data": {
            "text/plain": [
              "dict"
            ]
          },
          "metadata": {
            "tags": []
          },
          "execution_count": 18
        }
      ]
    },
    {
      "cell_type": "code",
      "metadata": {
        "id": "wcqoH-eh-CgH",
        "outputId": "727e8cc6-a7f8-4a4e-af67-e286d8cc45d8",
        "colab": {
          "base_uri": "https://localhost:8080/",
          "height": 34
        }
      },
      "source": [
        "decoded[0]"
      ],
      "execution_count": null,
      "outputs": [
        {
          "output_type": "execute_result",
          "data": {
            "text/plain": [
              "{'a': 1, 'b': 2, 'c': 3}"
            ]
          },
          "metadata": {
            "tags": []
          },
          "execution_count": 19
        }
      ]
    },
    {
      "cell_type": "code",
      "metadata": {
        "id": "WGbRSItA-GrA",
        "outputId": "1f61c8b6-4476-4626-be07-afc4c6379530",
        "colab": {
          "base_uri": "https://localhost:8080/",
          "height": 68
        }
      },
      "source": [
        "for key, value in decoded[0].items():\n",
        "  print(key, value)"
      ],
      "execution_count": null,
      "outputs": [
        {
          "output_type": "stream",
          "text": [
            "a 1\n",
            "b 2\n",
            "c 3\n"
          ],
          "name": "stdout"
        }
      ]
    },
    {
      "cell_type": "code",
      "metadata": {
        "id": "9eZqCOtH-a__",
        "outputId": "59403282-b63a-4310-e6cc-5fa4b3c8eb0c",
        "colab": {
          "base_uri": "https://localhost:8080/",
          "height": 34
        }
      },
      "source": [
        "decoded[0]['d'] = 4\n",
        "decoded[0]"
      ],
      "execution_count": null,
      "outputs": [
        {
          "output_type": "execute_result",
          "data": {
            "text/plain": [
              "{'a': 1, 'b': 2, 'c': 3, 'd': 4}"
            ]
          },
          "metadata": {
            "tags": []
          },
          "execution_count": 22
        }
      ]
    },
    {
      "cell_type": "code",
      "metadata": {
        "id": "a4G6kosbluQc"
      },
      "source": [
        "fout = open('DATA.txt', 'a') # a - append, w - write\n",
        "data = 'Good morning!'\n",
        "for i in range(1,10):\n",
        "  fout.write(str(i) + '\\n')\n",
        "fout.close()"
      ],
      "execution_count": null,
      "outputs": []
    },
    {
      "cell_type": "code",
      "metadata": {
        "id": "AMb7hn74yVZ6",
        "outputId": "ba124e67-693b-4a1e-8992-c3d00c6b85e6",
        "colab": {
          "base_uri": "https://localhost:8080/",
          "height": 188
        }
      },
      "source": [
        "fin = open('DATA.txt', 'r') # r - read\n",
        "lines = fin.readlines()\n",
        "lines"
      ],
      "execution_count": null,
      "outputs": [
        {
          "output_type": "execute_result",
          "data": {
            "text/plain": [
              "['Good morning!\\n',\n",
              " '1\\n',\n",
              " '2\\n',\n",
              " '3\\n',\n",
              " '4\\n',\n",
              " '5\\n',\n",
              " '6\\n',\n",
              " '7\\n',\n",
              " '8\\n',\n",
              " '9\\n']"
            ]
          },
          "metadata": {
            "tags": []
          },
          "execution_count": 7
        }
      ]
    },
    {
      "cell_type": "code",
      "metadata": {
        "id": "WSyBlZ52zmkD"
      },
      "source": [
        ""
      ],
      "execution_count": null,
      "outputs": []
    }
  ]
}