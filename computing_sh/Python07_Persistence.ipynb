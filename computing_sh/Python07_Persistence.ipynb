{
 "cells": [
  {
   "cell_type": "markdown",
   "metadata": {
    "id": "gK9giE5qxqch"
   },
   "source": [
    "# **Persistence**\n",
    "\n",
    "more efficient to\n",
    "* input large amount of data from disk to save manual tedious data entry\n",
    "* output result to disk for ease of future reference\n",
    "  \n",
    "\n",
    "3 modes\n",
    "* **r**ead from file\n",
    "* **w**rite to file\n",
    "* **a**ppend to an existing file"
   ]
  },
  {
   "cell_type": "markdown",
   "metadata": {
    "id": "53mIlsHCPWIS"
   },
   "source": [
    "**Reading**\n",
    "\n",
    "* open the file in read mode\n",
    "* default is read mode\n",
    "* if file does not exists, file not found error\n",
    "\n",
    "\n"
   ]
  },
  {
   "cell_type": "code",
   "execution_count": null,
   "metadata": {
    "id": "wscn8rXRPc6p"
   },
   "outputs": [],
   "source": [
    "infile = open(\"DATA.TXT\", 'r')"
   ]
  },
  {
   "cell_type": "markdown",
   "metadata": {
    "id": "4RFvkjs0P-YF"
   },
   "source": [
    "Each line is read in as a text string\n",
    "use assignment (and string slicing operations) to read into variables \n"
   ]
  },
  {
   "cell_type": "code",
   "execution_count": null,
   "metadata": {
    "id": "LuqiB6z7QIs8"
   },
   "outputs": [],
   "source": [
    "# read one line\n",
    "line = infile.readline()\n",
    "\n",
    "# read all lines\n",
    "lines = infile.readlines()"
   ]
  },
  {
   "cell_type": "markdown",
   "metadata": {
    "id": "X_7RY1fbQcGa"
   },
   "source": [
    "**File input example**\n",
    "\n",
    "Read from a text file NUMBERS.DAT which contains one integer per line. Compute and display the average of the numbers.\n"
   ]
  },
  {
   "cell_type": "code",
   "execution_count": null,
   "metadata": {
    "id": "hg4yxp2NQmmP"
   },
   "outputs": [],
   "source": [
    "infile = open(\"NUMBERS.DAT\", 'r')\n",
    "\n",
    "lines = infile.readlines()\n",
    "\n",
    "n = 0\n",
    "total = 0\n",
    "for num in lines:\n",
    "    total = total + int(num)\n",
    "    n = n + 1 \n",
    "\n",
    "print(total / n)\n",
    "\n",
    "infile.close()"
   ]
  },
  {
   "cell_type": "markdown",
   "metadata": {
    "id": "a7exME-NSv-j"
   },
   "source": [
    "**Writing**\n",
    "\n",
    "\n",
    "\n",
    "* open the file in write mode\n",
    "* if file does not exist, a new file will be created\n",
    "* **BE CAREFUL:** if file already exists, it will be overwritten (all previous contents gone!)\n"
   ]
  },
  {
   "cell_type": "code",
   "execution_count": null,
   "metadata": {
    "id": "atkueG2-SxU2"
   },
   "outputs": [],
   "source": [
    "outfile = open(\"DATA.TXT\", 'w')"
   ]
  },
  {
   "cell_type": "markdown",
   "metadata": {
    "id": "EW4xNAqkTU6V"
   },
   "source": [
    "\n",
    "* write() is similar to print(), except it does not include newline character (hence the \\n)\n",
    "* data is written as text string\n"
   ]
  },
  {
   "cell_type": "code",
   "execution_count": null,
   "metadata": {
    "id": "buSPHcuETlkj"
   },
   "outputs": [],
   "source": [
    "# write name and age to output file \n",
    "outfile.write(\"Lim Ah Seng\")\n",
    "outfile.write(\"17\")\n",
    "outfile.write(\"\\n\") # newline character"
   ]
  },
  {
   "cell_type": "markdown",
   "metadata": {
    "id": "6G2snF6OTQvX"
   },
   "source": [
    "**Appending**\n",
    "\n",
    "* open the file in append mode\n",
    "* if file does not exist, a new file will be created\n",
    "* if file already exists, new content will be added to the end of the file\n"
   ]
  },
  {
   "cell_type": "code",
   "execution_count": null,
   "metadata": {
    "id": "RX8z0bAeT3-d"
   },
   "outputs": [],
   "source": [
    "outfile = open(\"DATA.TXT\", 'a')"
   ]
  },
  {
   "cell_type": "markdown",
   "metadata": {
    "id": "rNxkkg6IUZtk"
   },
   "source": [
    "**Closing**\n",
    "\n",
    "* remember to close all files at the end of your program\n",
    "* commit all memory operations to disk (especially for write/append) \n",
    "* release storage\n",
    "* unlock files"
   ]
  },
  {
   "cell_type": "code",
   "execution_count": null,
   "metadata": {
    "id": "Wz_-1LrtUkmp"
   },
   "outputs": [],
   "source": [
    "infile.close()\n",
    "outfile.close()"
   ]
  },
  {
   "cell_type": "markdown",
   "metadata": {},
   "source": [
    "Another method of reading from file is to use the ```with``` method, which handles the closing of the file automatically, reducing the risk of accessing an open file."
   ]
  },
  {
   "cell_type": "code",
   "execution_count": null,
   "metadata": {},
   "outputs": [],
   "source": [
    "with open (\"DATA.TXT\", 'r') as file: # specify filename and mode\n",
    "    # read the file data from the file object\n",
    "    # the following command returns a list of the file data\n",
    "    file_data = file.readlines()\n",
    "    \n",
    "# file is already closed\n",
    "print(file_data)"
   ]
  },
  {
   "cell_type": "markdown",
   "metadata": {
    "id": "CaxTNfW_VtcF"
   },
   "source": [
    "## **Flat Files**\n",
    "\n",
    "**Fixed length records**  \n",
    "```\n",
    "<id><name>      <dob>     <email>              <mobile>\n",
    "1   Lim Ah Seng 1995-01-01limahseng@hotmail.com12345678\n",
    "2   Tan Ah Lian 1995-12-31tanahlian@yahoo.com  87654321\n",
    "```\n",
    "\n",
    "**Variable length records**  \n",
    "```\n",
    "id,name,dob,email,mobile\n",
    "1,Lim Ah Seng,1995-01-01,limahseng@hotmail.com,12345678\n",
    "2,Tan Ah Lian,1995-12-31,tanahlian@yahoo.com,87654321\n",
    "```"
   ]
  },
  {
   "cell_type": "markdown",
   "metadata": {
    "id": "jV4y0GtgW1NA"
   },
   "source": [
    "**Fixed length records (Read)**\n",
    "* read line as text string and use slicing"
   ]
  },
  {
   "cell_type": "code",
   "execution_count": null,
   "metadata": {
    "id": "KOmHcy_CW94f"
   },
   "outputs": [],
   "source": [
    "# read all lines\n",
    "records = infile.readlines()\n",
    " \n",
    "# process each line\n",
    "for record in records:\n",
    "      rid = record[0:1]\n",
    "      name = record[1:21]\n",
    "      dob = record[21:31]\n",
    "      email = record[31:61]\n",
    "      mobile = record[61:69]\n"
   ]
  },
  {
   "cell_type": "markdown",
   "metadata": {
    "id": "jFw-5Ki3XAVN"
   },
   "source": [
    "**Fixed length records (Write)**\n",
    "* write line as text string with formatting\n",
    "* to include new line character"
   ]
  },
  {
   "cell_type": "code",
   "execution_count": null,
   "metadata": {
    "id": "SEgh6e2fXR8S"
   },
   "outputs": [],
   "source": [
    "outfile.write(\"{0}{1:12s}{2}{3}{4}\\n\".format(1, \"Lim Ah Seng\", \"1995-01-01\", \"limahseng@hotmail.com\", \"12345678\"))"
   ]
  },
  {
   "cell_type": "markdown",
   "metadata": {
    "id": "z049IVFuXoxQ"
   },
   "source": [
    "**Variable length records**\n",
    "* delimited file eg csv (comma separated variables)\n",
    "* use Python's csv module\n"
   ]
  },
  {
   "cell_type": "code",
   "execution_count": null,
   "metadata": {
    "id": "OEOSXuTJXvqQ"
   },
   "outputs": [],
   "source": [
    "import csv\n",
    "\n",
    "with open(\"person1.csv\", 'r', newline=\"\") as infile:\n",
    "    # pass in the file object to the csv reader and specify delimiter\n",
    "    records = csv.reader(infile, delimiter=\",\") # default delimiter is the comma\n",
    "    # records refer to a csv file object, so we need to iterate through it\n",
    "    for record in records:\n",
    "        print(\"ID:\", record[0])\n",
    "        print(\"Name:\", record[1])\n",
    "        print(\"DOB:\", record[2])\n",
    "        print(\"Email:\", record[3])\n",
    "        print(\"Mobile:\", record[4])"
   ]
  },
  {
   "cell_type": "code",
   "execution_count": null,
   "metadata": {
    "id": "GVr33FQodtPB"
   },
   "outputs": [],
   "source": [
    "import csv\n",
    "\n",
    "with open(\"uperson.csv\", \"w\", newline=\"\") as outfile:\n",
    "    writer = csv.writer(outfile, delimiter=\",\")\n",
    "    writer.writerows([\n",
    "    (1, 'Lim Ah Seng', '1995-01-01', 'limahseng@hotmail.com', '12345678'),\n",
    "    (2, 'Tan Ah Lian', '1995-12-31', 'tanahlian@yahoo.com', '87654321')])"
   ]
  },
  {
   "cell_type": "markdown",
   "metadata": {
    "id": "DfRig1Lgk3Ne"
   },
   "source": [
    "## **JSON**\n",
    "* JavaScript Object Notation\n"
   ]
  },
  {
   "cell_type": "code",
   "execution_count": null,
   "metadata": {
    "colab": {
     "base_uri": "https://localhost:8080/",
     "height": 34
    },
    "id": "dEL27qyh8fwL",
    "outputId": "7944ee9d-89c8-4368-da5d-8dbf3a85d9ee"
   },
   "outputs": [
    {
     "name": "stdout",
     "output_type": "stream",
     "text": [
      "[{'a': 1, 'c': 3, 'b': 2}]\n"
     ]
    }
   ],
   "source": [
    "import json\n",
    "\n",
    "# Python data (can be int, float, string, unicode, list, dictionary, tuple)\n",
    "pdata = [{'a': 1, 'c': 3, 'b': 2}]\n",
    "print(pdata)"
   ]
  },
  {
   "cell_type": "code",
   "execution_count": null,
   "metadata": {
    "colab": {
     "base_uri": "https://localhost:8080/",
     "height": 34
    },
    "id": "97-gJzGq77q0",
    "outputId": "8ed962f8-8769-4e49-fd21-99a134f881d6"
   },
   "outputs": [
    {
     "data": {
      "text/plain": [
       "'[{\"a\": 1, \"c\": 3, \"b\": 2}]'"
      ]
     },
     "execution_count": 11,
     "metadata": {
      "tags": []
     },
     "output_type": "execute_result"
    }
   ],
   "source": [
    "# encode (python to json)\n",
    "encoded = json.dumps(pdata) # this method converts the dictionary into a string\n",
    "encoded"
   ]
  },
  {
   "cell_type": "code",
   "execution_count": null,
   "metadata": {
    "colab": {
     "base_uri": "https://localhost:8080/",
     "height": 34
    },
    "id": "0NOjM6zx80Ip",
    "outputId": "494bc904-e1e8-4a05-ec40-f231bffc0f48"
   },
   "outputs": [
    {
     "data": {
      "text/plain": [
       "'[{\"a\": 1, \"b\": 2, \"c\": 3}]'"
      ]
     },
     "execution_count": 13,
     "metadata": {
      "tags": []
     },
     "output_type": "execute_result"
    }
   ],
   "source": [
    "# encode (python to json with sorting)\n",
    "encoded = json.dumps(pdata, sort_keys=True)\n",
    "encoded"
   ]
  },
  {
   "cell_type": "code",
   "execution_count": null,
   "metadata": {
    "colab": {
     "base_uri": "https://localhost:8080/",
     "height": 136
    },
    "id": "Pcxk0XKu9Mws",
    "outputId": "f48688ef-7a8b-498f-9c2a-c98fc1c86274"
   },
   "outputs": [
    {
     "name": "stdout",
     "output_type": "stream",
     "text": [
      "[\n",
      "  {\n",
      "    \"a\": 1,\n",
      "    \"b\": 2,\n",
      "    \"c\": 3\n",
      "  }\n",
      "]\n"
     ]
    }
   ],
   "source": [
    "# encode (python to json with sorting and formatting)\n",
    "encoded = json.dumps(pdata, sort_keys=True, indent=2)\n",
    "print(encoded)"
   ]
  },
  {
   "cell_type": "code",
   "execution_count": null,
   "metadata": {
    "colab": {
     "base_uri": "https://localhost:8080/",
     "height": 51
    },
    "id": "0J8Mjv968P5b",
    "outputId": "112e39e2-4e24-4318-ea1f-0909fd162901"
   },
   "outputs": [
    {
     "name": "stdout",
     "output_type": "stream",
     "text": [
      "[{'a': 1, 'b': 2, 'c': 3}]\n"
     ]
    },
    {
     "data": {
      "text/plain": [
       "list"
      ]
     },
     "execution_count": 17,
     "metadata": {
      "tags": []
     },
     "output_type": "execute_result"
    }
   ],
   "source": [
    "# JSON data (string)\n",
    "jdata = '[{\"a\": 1, \"b\": 2, \"c\": 3}]'\n",
    "\n",
    "# decode (json to python)\n",
    "decoded = json.loads(jdata)\n",
    "print(decoded)\n",
    "type(decoded)"
   ]
  },
  {
   "cell_type": "code",
   "execution_count": null,
   "metadata": {
    "colab": {
     "base_uri": "https://localhost:8080/",
     "height": 34
    },
    "id": "wIrcExy7950f",
    "outputId": "f9c6e2d7-6e03-41ba-9eb5-1ab57f7dd278"
   },
   "outputs": [
    {
     "data": {
      "text/plain": [
       "dict"
      ]
     },
     "execution_count": 18,
     "metadata": {
      "tags": []
     },
     "output_type": "execute_result"
    }
   ],
   "source": [
    "type(decoded[0])"
   ]
  },
  {
   "cell_type": "code",
   "execution_count": null,
   "metadata": {
    "colab": {
     "base_uri": "https://localhost:8080/",
     "height": 34
    },
    "id": "wcqoH-eh-CgH",
    "outputId": "727e8cc6-a7f8-4a4e-af67-e286d8cc45d8"
   },
   "outputs": [
    {
     "data": {
      "text/plain": [
       "{'a': 1, 'b': 2, 'c': 3}"
      ]
     },
     "execution_count": 19,
     "metadata": {
      "tags": []
     },
     "output_type": "execute_result"
    }
   ],
   "source": [
    "decoded[0]"
   ]
  },
  {
   "cell_type": "code",
   "execution_count": null,
   "metadata": {
    "colab": {
     "base_uri": "https://localhost:8080/",
     "height": 68
    },
    "id": "WGbRSItA-GrA",
    "outputId": "1f61c8b6-4476-4626-be07-afc4c6379530"
   },
   "outputs": [
    {
     "name": "stdout",
     "output_type": "stream",
     "text": [
      "a 1\n",
      "b 2\n",
      "c 3\n"
     ]
    }
   ],
   "source": [
    "for key, value in decoded[0].items():\n",
    "  print(key, value)"
   ]
  },
  {
   "cell_type": "code",
   "execution_count": null,
   "metadata": {
    "colab": {
     "base_uri": "https://localhost:8080/",
     "height": 34
    },
    "id": "9eZqCOtH-a__",
    "outputId": "59403282-b63a-4310-e6cc-5fa4b3c8eb0c"
   },
   "outputs": [
    {
     "data": {
      "text/plain": [
       "{'a': 1, 'b': 2, 'c': 3, 'd': 4}"
      ]
     },
     "execution_count": 22,
     "metadata": {
      "tags": []
     },
     "output_type": "execute_result"
    }
   ],
   "source": [
    "decoded[0]['d'] = 4\n",
    "decoded[0]"
   ]
  },
  {
   "cell_type": "code",
   "execution_count": null,
   "metadata": {
    "id": "a4G6kosbluQc"
   },
   "outputs": [],
   "source": [
    "fout = open('DATA.txt', 'a') # a - append, w - write\n",
    "data = 'Good morning!'\n",
    "for i in range(1,10):\n",
    "  fout.write(str(i) + '\\n')\n",
    "fout.close()"
   ]
  },
  {
   "cell_type": "code",
   "execution_count": null,
   "metadata": {
    "colab": {
     "base_uri": "https://localhost:8080/",
     "height": 188
    },
    "id": "AMb7hn74yVZ6",
    "outputId": "ba124e67-693b-4a1e-8992-c3d00c6b85e6"
   },
   "outputs": [
    {
     "data": {
      "text/plain": [
       "['Good morning!\\n',\n",
       " '1\\n',\n",
       " '2\\n',\n",
       " '3\\n',\n",
       " '4\\n',\n",
       " '5\\n',\n",
       " '6\\n',\n",
       " '7\\n',\n",
       " '8\\n',\n",
       " '9\\n']"
      ]
     },
     "execution_count": 7,
     "metadata": {
      "tags": []
     },
     "output_type": "execute_result"
    }
   ],
   "source": [
    "fin = open('DATA.txt', 'r') # r - read\n",
    "lines = fin.readlines()\n",
    "lines"
   ]
  }
 ],
 "metadata": {
  "colab": {
   "collapsed_sections": [],
   "name": "Python07 - Persistence.ipynb",
   "provenance": []
  },
  "kernelspec": {
   "display_name": "Python 3",
   "language": "python",
   "name": "python3"
  },
  "language_info": {
   "codemirror_mode": {
    "name": "ipython",
    "version": 3
   },
   "file_extension": ".py",
   "mimetype": "text/x-python",
   "name": "python",
   "nbconvert_exporter": "python",
   "pygments_lexer": "ipython3",
   "version": "3.6.4"
  }
 },
 "nbformat": 4,
 "nbformat_minor": 1
}
