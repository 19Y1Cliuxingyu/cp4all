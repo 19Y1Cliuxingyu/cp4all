{
  "nbformat": 4,
  "nbformat_minor": 0,
  "metadata": {
    "colab": {
      "name": "Python10 - Searching.ipynb",
      "provenance": []
    },
    "kernelspec": {
      "name": "python3",
      "display_name": "Python 3"
    }
  },
  "cells": [
    {
      "cell_type": "markdown",
      "metadata": {
        "id": "vXHwmmiXb_G6"
      },
      "source": [
        "# **Searching**\n",
        "\n",
        "**Why search?**\n",
        "* search is the process of looking for (a) particular item(s) with specified properties in a collection\n",
        "* if you cannot find it, how can you make use of it?\n",
        "\n",
        "We are going to look at  \n",
        "* linear search\n",
        "* binary search\n",
        "* hash table search"
      ]
    },
    {
      "cell_type": "markdown",
      "metadata": {
        "id": "R_SW8yhlcVvM"
      },
      "source": [
        "## Linear Search\n",
        "\n",
        "* start from first item and search for target\n",
        "* if found, return item position \n",
        "* else return -1"
      ]
    },
    {
      "cell_type": "code",
      "metadata": {
        "id": "OXIHydMdaxTQ",
        "outputId": "3c2774f5-2fc8-4ffa-a535-37675b46a8eb",
        "colab": {
          "base_uri": "https://localhost:8080/",
          "height": 51
        }
      },
      "source": [
        "# linear search\n",
        "def linear_search(A, target):\n",
        "  for i in range(len(A)):\n",
        "    if A[i] == target:\n",
        "      return i\n",
        "  return -1 # not found status\n",
        "\n",
        "# main\n",
        "A = [3, 1, 4, 2, 5]\n",
        "print(linear_search(A, 2)) # successful search  \n",
        "print(linear_search(A, 7)) # unsuccessful search\n"
      ],
      "execution_count": null,
      "outputs": [
        {
          "output_type": "stream",
          "text": [
            "3\n",
            "-1\n"
          ],
          "name": "stdout"
        }
      ]
    },
    {
      "cell_type": "markdown",
      "metadata": {
        "id": "3qNAjazzdtgV"
      },
      "source": [
        "### Linear search efficiency\n",
        "\n",
        "* good if target is near front\n",
        "* bad if target is near back\n",
        "* on average, need to search n/2 items\n",
        "* worst case O(n) * Big Oh notation\n",
        "* is there a better way?\n",
        " \n",
        "Note: in and index in Python uses linear search \n"
      ]
    },
    {
      "cell_type": "code",
      "metadata": {
        "id": "P49cF6YN7Wg5",
        "outputId": "4e8de45e-a50e-4f73-f679-d33282cbc179",
        "colab": {
          "base_uri": "https://localhost:8080/",
          "height": 51
        }
      },
      "source": [
        "print(A)\n",
        "A.index(4)"
      ],
      "execution_count": null,
      "outputs": [
        {
          "output_type": "stream",
          "text": [
            "[3, 1, 4, 2, 5]\n"
          ],
          "name": "stdout"
        },
        {
          "output_type": "execute_result",
          "data": {
            "text/plain": [
              "2"
            ]
          },
          "metadata": {
            "tags": []
          },
          "execution_count": 5
        }
      ]
    },
    {
      "cell_type": "markdown",
      "metadata": {
        "id": "jAjwMFsme13A"
      },
      "source": [
        "## Binary Search\n",
        "\n",
        "* start from middle item and search for target\n",
        "* if invalid bounds, return not found (-1)\n",
        "* if middle item = target, return found (item position) \n",
        "* else if target < middle item, search left subtree recursively\n",
        "* else search right subtree recursively \n",
        "\n",
        "https://visualgo.net/en/bst "
      ]
    },
    {
      "cell_type": "code",
      "metadata": {
        "id": "vv_EKvwdd7YJ",
        "outputId": "1a739ab6-b4ae-432a-9f5f-033ac061f572",
        "colab": {
          "base_uri": "https://localhost:8080/",
          "height": 51
        }
      },
      "source": [
        "# binary search (recursive)\n",
        "def binary_search(A, target, low, high):\n",
        "  mid = (low + high) // 2\n",
        "  # terminating case 1: not found\n",
        "  if low > high:\n",
        "    return -1\n",
        "  # terminating case 2: found\n",
        "  elif A[mid] == target:\n",
        "    return mid\n",
        "  # recursive case 1: go left\n",
        "  elif target < A[mid]:\n",
        "    return binary_search(A, target, low, mid-1)\n",
        "  # recursive case 1: go right\n",
        "  else: # target > A[mid]\n",
        "    return binary_search(A, target, mid+1, high)\n",
        "\n",
        "# main\n",
        "A = [1, 2, 3, 4, 5]\n",
        "print(binary_search(A, 4, 0, len(A)-1)) # successful search\n",
        "print(binary_search(A, 8, 0, len(A)-1)) # unsuccessful search"
      ],
      "execution_count": null,
      "outputs": [
        {
          "output_type": "stream",
          "text": [
            "3\n",
            "-1\n"
          ],
          "name": "stdout"
        }
      ]
    },
    {
      "cell_type": "code",
      "metadata": {
        "id": "G8TMRwFnfPCf",
        "outputId": "67daee0e-fdbd-4672-c164-be5fcedbc471",
        "colab": {
          "base_uri": "https://localhost:8080/",
          "height": 51
        }
      },
      "source": [
        "# binary search (iterative)\n",
        "def binary_searchi(A, target):\n",
        "  low = 0\n",
        "  high = len(A) - 1\n",
        "  while low <= high:\n",
        "    mid = (low + high) // 2\n",
        "    if A[mid] == target:\n",
        "      return mid\n",
        "    elif target < A[mid]:\n",
        "      high = mid - 1\n",
        "    else: # target > A[mid]\n",
        "      low = mid + 1\n",
        "  return -1 # not found status\n",
        "\n",
        "# main\n",
        "A = [1, 2, 3, 4, 5]\n",
        "print(binary_searchi(A, 4)) # successful search\n",
        "print(binary_searchi(A, 8)) # unsuccessful search"
      ],
      "execution_count": null,
      "outputs": [
        {
          "output_type": "stream",
          "text": [
            "3\n",
            "-1\n"
          ],
          "name": "stdout"
        }
      ]
    },
    {
      "cell_type": "markdown",
      "metadata": {
        "id": "7o4SH49FfnJ_"
      },
      "source": [
        "### Binary search efficiency\n",
        "\n",
        "* we reduce the problem by half each time\n",
        "* guaranteed to get result in about log<sub>2</sub> n times\n",
        "* worse case: O(log n)\n",
        " \n",
        "However, items need to be sorted."
      ]
    },
    {
      "cell_type": "markdown",
      "metadata": {
        "id": "KutvFEFflTV8"
      },
      "source": [
        ""
      ]
    },
    {
      "cell_type": "code",
      "metadata": {
        "id": "1dY5CNZUf1Lz"
      },
      "source": [
        ""
      ],
      "execution_count": null,
      "outputs": []
    }
  ]
}