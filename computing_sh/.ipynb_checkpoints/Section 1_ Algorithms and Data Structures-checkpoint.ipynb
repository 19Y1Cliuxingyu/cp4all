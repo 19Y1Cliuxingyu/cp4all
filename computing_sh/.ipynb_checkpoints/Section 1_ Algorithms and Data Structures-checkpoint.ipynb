{
 "cells": [
  {
   "cell_type": "markdown",
   "metadata": {
    "id": "eBlhAcLYUivJ"
   },
   "source": [
    "# Section 1: Algorithms and Data Structures\n",
    "## 1.1 Algorithmic Representation \n",
    "Write algorithms in pseudo-code and flowchart for given problems.\n",
    "\n",
    "\n"
   ]
  },
  {
   "cell_type": "markdown",
   "metadata": {},
   "source": [
    "### 1.1.1 Use appropriate techniques or tools such as pseudo-code and flowchart to show program flow."
   ]
  },
  {
   "cell_type": "markdown",
   "metadata": {},
   "source": [
    "#### Adapted from 9569 Computing - The Book 2020\n",
    "\n",
    "## General Rules\n",
    "\n",
    "1. Translate the chosen algorithm logic into easily understandable phrases that can be implemented using a programming language.\n",
    "2. Indent when enclosing statements within a loop or a conditional clause to show program structure. \n",
    "3. Avoid using any term *specific* to a coding language. For example, Do not use colons (:), def, range() which are Python specific.\n",
    "\n",
    "#### Capitalisation\n",
    "Keywords are capitalised IF, REPEAT, PROCEDURE\n",
    "\n",
    "Identifiers are in CamelCase with capital letters at the start of new words, eg. NumberOfPlayers\n",
    "\n",
    "### Data Types\n",
    "DATE: Similar to declaring python Date Object\n",
    "\n",
    "INTEGER: Number with no decimals\n",
    "\n",
    "REAL: A real number\n",
    "\n",
    "CHAR: A Character\n",
    "\n",
    "STRING: Letters\n",
    "\n",
    "BOOLEAN: Logical Boolean values TRUE and FALSE\n",
    "\n",
    "### Declaring Datatypes\n",
    "```\n",
    "DECLARE Count : INTEGER\n",
    "DECLARE Total : REAL\n",
    "```\n",
    "\n",
    "### Relational Operator \n",
    "`=` Equal to\n",
    "\n",
    "`<>` Not equal to\n",
    "\n",
    "`>=` Greater or equal to\n",
    "\n",
    "`<=` Smaller or equal to\n",
    "\n",
    "\n",
    "### Arithmetic Operations\n",
    "`+` plus\n",
    "\n",
    "`-` minus\n",
    "\n",
    "`*` times\n",
    "\n",
    "`/` divide\n",
    "\n",
    "`mod` Modulo\n",
    "\n",
    "\n",
    "### Defining Functions\n",
    "```\n",
    "PROCEDURE INCREMENT(X : INTEGER)\n",
    "    Temp ← X   // temporarily assign X to variable \n",
    "    Temp ← Temp+1\n",
    "    RETURN Temp,X\n",
    "    \n",
    "ENDPROCEDURE\n",
    "```\n",
    "\n",
    "\n",
    "### If-Else statement\n",
    "```\n",
    "IF student's score >= 50\n",
    "  OUTPUT \"passed\"\n",
    "ELSE\n",
    "  OUTPUT \"failed\"\n",
    "ENDIF\n",
    "```\n",
    "`IF` → 1st condition\n",
    "\n",
    "`ELSEIF` → 2nd condition\n",
    "\n",
    "`ELSE` → Else\n",
    "\n",
    "`ENDIF` → End \n",
    "\n",
    "\n",
    "### For loops\n",
    "`FOR… TO` → Specify range\n",
    "\n",
    "`NEXT` → Continue to next line\n",
    "\n",
    "For when you need to repeat an algorithm multiple times\n",
    "\n",
    "```\n",
    "FOR x = 1 TO 10\n",
    "    OUTPUT x\n",
    "ENDFOR\n",
    "\n",
    "```\n",
    "\n",
    "\n",
    "### Post Condition Loops \n",
    "`REPEAT` → Specify what to repeat\n",
    "\n",
    "`UNTIL` → Specify condition\n",
    "\n",
    "For when you need to repeat an algorithm until a condition is true \n",
    "\n",
    "*Does not check condition the first time*\n",
    "\n",
    "```\n",
    "REPEAT\n",
    "     INPUT x\n",
    "UNTIL x < 10\n",
    "```\n",
    "\n",
    "\n",
    "\n",
    "### Pre Condition Loops (While loops)\n",
    "`WHILE` → Specify condition\n",
    "\n",
    "`ENDWHILE` → End\n",
    "\n",
    "For when you need to repeat an algorithm until a condition is not true\n",
    "*Checks condition from the start*\n",
    "\n",
    "```\n",
    "INPUT x\n",
    "WHILE x < 10\n",
    "    INPUT x\n",
    "ENDWHILE\n",
    "```\n",
    "\n",
    "\n",
    "### Test equality against a list of values\n",
    "\n",
    "Similar to c++ switch statement\n",
    "```\n",
    "INPUT Move\n",
    "CASE OF Move\n",
    "    ꞌWꞌ: Position ← Position –10\n",
    "    ꞌSꞌ: Position ← Position + 10\n",
    "    ꞌAꞌ: Position ← Position –1\n",
    "    ꞌDꞌ: Position ← Position + 10\n",
    "    OTHERWISE: Beep\n",
    "ENDCASE\n",
    "```\n",
    "\n",
    "### Data Structure\n",
    "#### Arrays\n",
    "\n",
    "Initializing Array\n",
    "`DECLARE Pointers: ARRAY[1:10] of INTEGER`\n",
    "\n",
    "Array Indexing\n",
    "`Head ← Pointers[0]`\n",
    "\n",
    "### Management of Files\n",
    "\n",
    "```\n",
    "DECLARE FileLine : STRING\n",
    "\n",
    "// Initialise files for reading and writing\n",
    "OPENFILE InFile.txt FOR READ\n",
    "OPENFILE OutFile.txt FOR WRITE\n",
    "\n",
    "// Continue while file is not empty\n",
    "WHILE NOT EOF(InFile.txt) DO\n",
    "    READFILE InFile.txt, FileLine\n",
    "    \n",
    "    IF Line = \"\"\n",
    "        THEN\n",
    "        WRITEFILE OutFile.txt, \"Null Line\"\n",
    "    ELSE\n",
    "        WRITEFILE OutFile.txt, FileLine\n",
    "    ENDIF\n",
    "ENDWHILE\n",
    "\n",
    "CLOSEFILE InFile.txt\n",
    "CLOSEFILE InFile.txt\n",
    "```"
   ]
  },
  {
   "cell_type": "markdown",
   "metadata": {
    "id": "PeZCyqXPRMjd"
   },
   "source": [
    "\n",
    "### 1.1.2 Use standard flowchart symbols.\n",
    "### 1.1.3 Use a combination of various control structures.\n",
    "### 1.1.4 Use decision tables to explore the actions for combinations of different input conditions. Note: up to three conditions.\n",
    "### 1.1.5 Use modular design to decompose a problem into smaller problems.  "
   ]
  },
  {
   "cell_type": "markdown",
   "metadata": {},
   "source": [
    "### 1.2.1 Implement sort algorithms. – Insertion sort – Bubble sort – Quicksort – Merge sort\n",
    "Understand algorithms for sorting and searching methods such as insertion sort, bubble sort, quicksort, merge sort, linear search, binary search and hash table search, and use examples to explain these methods. "
   ]
  },
  {
   "cell_type": "code",
   "execution_count": 11,
   "metadata": {},
   "outputs": [
    {
     "data": {
      "text/plain": [
       "[1, 2, 4, 6, 8, 9]"
      ]
     },
     "execution_count": 11,
     "metadata": {},
     "output_type": "execute_result"
    }
   ],
   "source": [
    "#iterative insertion sort\n",
    "\n",
    "def insertionsort_iter(arr):\n",
    "    \n",
    "    #traverse through length of array\n",
    "    for i in range(len(arr)):\n",
    "        \n",
    "        insert_val = arr[i] #choose first element\n",
    "        insert_index = i\n",
    "        \n",
    "        #compare chosen element and previous element for length of remaining array\n",
    "        while insert_index > 0 and arr[insert_index-1] > insert_val:\n",
    "            \n",
    "            #shift the values in array\n",
    "            arr[insert_index] = arr[insert_index-1]\n",
    "            \n",
    "            #iterative element\n",
    "            insert_index-=1\n",
    "        \n",
    "        #place value at chosen index\n",
    "        arr[insert_index] = insert_val\n",
    "\n",
    "    return arr\n",
    "\n",
    "insertionsort_iter([9,6,2,4,1,8])"
   ]
  },
  {
   "cell_type": "code",
   "execution_count": 15,
   "metadata": {},
   "outputs": [
    {
     "data": {
      "text/plain": [
       "[1, 2, 4, 6, 8, 9]"
      ]
     },
     "execution_count": 15,
     "metadata": {},
     "output_type": "execute_result"
    }
   ],
   "source": [
    "#there are other implementations for recursion, this is just 1 of them\n",
    "\n",
    "#recursive insertion sort\n",
    "def insertionsort_rec(arr,i):\n",
    "    \n",
    "    #base case, stop iterating once it reaches end of arr\n",
    "    if i>0 and i<len(arr):\n",
    "        \n",
    "        insert_val = arr[i] #choose first element\n",
    "        insert_index = i\n",
    "        \n",
    "        while insert_index > 0 and arr[insert_index-1]> insert_val:\n",
    "            #shift the values in array\n",
    "            arr[insert_index] = arr[insert_index-1]\n",
    "            \n",
    "            #iterative element\n",
    "            insert_index-=1\n",
    "        \n",
    "        #place value at chosen index\n",
    "        arr[insert_index] = insert_val\n",
    "        \n",
    "        return insertionsort_rec(arr,i+1)\n",
    "    \n",
    "    else: #terminating case\n",
    "        return arr\n",
    "\n",
    "arr = [9,6,2,4,1,8]\n",
    "insertionsort_rec(arr,1)"
   ]
  },
  {
   "cell_type": "code",
   "execution_count": 51,
   "metadata": {},
   "outputs": [
    {
     "data": {
      "text/plain": [
       "[1, 2, 4, 6, 8, 9]"
      ]
     },
     "execution_count": 51,
     "metadata": {},
     "output_type": "execute_result"
    }
   ],
   "source": [
    "#iterative bubble sort\n",
    "\n",
    "def bubblesort(arr):\n",
    "    \n",
    "    #for each item in array\n",
    "    for i in range(len(arr)):\n",
    "        swapped = False\n",
    "        \n",
    "        #compare elements up to 1 element before current one\n",
    "        for k in range(0, len(arr)-i-1):\n",
    "            \n",
    "            #compare element before and after\n",
    "            if arr[k]>arr[k+1]:\n",
    "                #swap elements\n",
    "                arr[k],arr[k+1] = arr[k+1], arr[k]\n",
    "                \n",
    "                #do not need to go through loop again (efficient)\n",
    "                swapped = True\n",
    "\n",
    "        if not swapped:\n",
    "            break\n",
    "            \n",
    "    return(arr)\n",
    "\n",
    "arr = [9,6,2,4,1,8]\n",
    "bubblesort(arr)"
   ]
  },
  {
   "cell_type": "code",
   "execution_count": 53,
   "metadata": {},
   "outputs": [
    {
     "data": {
      "text/plain": [
       "[1, 2, 4, 6, 9, 8]"
      ]
     },
     "execution_count": 53,
     "metadata": {},
     "output_type": "execute_result"
    }
   ],
   "source": [
    "#there are other implementations for recursion, this is just 1 of them\n",
    "#recursive bubblesort\n",
    "def bubblesort_rec(arr,i):\n",
    "    \n",
    "    #continue through all items in array\n",
    "    if len(arr)>1 and i<len(arr):\n",
    "        \n",
    "        #compare elements up to 1 element before current one\n",
    "        for k in range(0, len(arr)-i-1):\n",
    "            \n",
    "            #compare element before and after\n",
    "            if arr[k]>arr[k+1]:\n",
    "                #swap elements\n",
    "                arr[k],arr[k+1] = arr[k+1], arr[k]\n",
    "\n",
    "    \n",
    "        return bubblesort_rec(arr,i+1)\n",
    "        \n",
    "    else: #terminating case\n",
    "        return arr\n",
    "    \n",
    "arr = [9,6,2,4,1,8]\n",
    "bubblesort_rec(arr,1)"
   ]
  },
  {
   "cell_type": "code",
   "execution_count": 28,
   "metadata": {},
   "outputs": [
    {
     "data": {
      "text/plain": [
       "[1, 2, 4, 6, 8, 9]"
      ]
     },
     "execution_count": 28,
     "metadata": {},
     "output_type": "execute_result"
    }
   ],
   "source": [
    "def quicksort(arr):\n",
    "    less = []\n",
    "    more = []\n",
    "    equal = []\n",
    "\n",
    "    if len(arr)>1:\n",
    "        pivot = arr[0]\n",
    "        for k in arr:\n",
    "            if k<pivot:\n",
    "                less.append(k)\n",
    "            elif k==pivot:\n",
    "                equal.append(k)\n",
    "            elif k>pivot:\n",
    "                more.append(k)\n",
    "        return quicksort(less)+equal+quicksort(more)\n",
    "    else:\n",
    "        return arr\n",
    "    \n",
    "quicksort([9,6,2,4,1,8])"
   ]
  },
  {
   "cell_type": "code",
   "execution_count": 49,
   "metadata": {},
   "outputs": [
    {
     "data": {
      "text/plain": [
       "[1, 2, 4, 6, 8, 9]"
      ]
     },
     "execution_count": 49,
     "metadata": {},
     "output_type": "execute_result"
    }
   ],
   "source": [
    "#mergesort\n",
    "\n",
    "def mergesort(arr):\n",
    "\n",
    "    if len(arr)>1:\n",
    "        mid = len(arr)//2 #Find array middle position \n",
    "        left = arr[:mid] #Dividing the array elements into two halves\n",
    "        right = arr[mid:]\n",
    "        mergesort(left)\n",
    "        mergesort(right)\n",
    "        \n",
    "        i=j=k=0\n",
    "        # i is for the left array index\n",
    "        # j is for the right array index\n",
    "        # k if for the final array index\n",
    "        \n",
    "        #while loop ends when either left or right array is empty\n",
    "        while i<len(left) and j<len(right):\n",
    "            \n",
    "            #compare elements from both array\n",
    "            if left[i] <= right[j]: # change sign of this for ascending/descending\n",
    "                arr[k] = left[i] #add item to final array\n",
    "                i+=1\n",
    "            else:\n",
    "                arr[k] = right[j]\n",
    "                j+=1\n",
    "            k+=1 #ensure index of final array increases\n",
    "        \n",
    "        #append remaining values from left array if exists\n",
    "        while i<len(left):\n",
    "            arr[k] = left[i]\n",
    "            i+=1\n",
    "            k+=1\n",
    "            \n",
    "        #append remaining values from right array if exists\n",
    "        while j<len(right):\n",
    "            arr[k] = right[j]\n",
    "            j+=1\n",
    "            k+=1\n",
    "    return(arr)\n",
    "        \n",
    "\n",
    "mergesort([9,6,2,4,1,8])"
   ]
  },
  {
   "cell_type": "code",
   "execution_count": 54,
   "metadata": {},
   "outputs": [
    {
     "data": {
      "text/plain": [
       "[1, 2, 4, 6, 8, 9]"
      ]
     },
     "execution_count": 54,
     "metadata": {},
     "output_type": "execute_result"
    }
   ],
   "source": [
    "#simplified mergesort\n",
    "\n",
    "def merge_sort(arr):\n",
    "    \n",
    "    def merge(left, right):\n",
    "        result = [] #final array\n",
    "        \n",
    "        #while loop ends when either left or right array is empty\n",
    "        while left and right:\n",
    "            #compare first element of left/right array & append to final based on value\n",
    "            result.append(left.pop(0) if left[0]<right[0] else right.pop(0))\n",
    "            \n",
    "            #arr.pop() instead of arr[0] to remove the item from array\n",
    "\n",
    "        #combine the arrays together based on ascending order\n",
    "        return result + left + right\n",
    "    \n",
    "    #terminating base case\n",
    "    if len(arr) <= 1:\n",
    "        return arr\n",
    "    \n",
    "    #find middle of array\n",
    "    mid = len(arr)//2\n",
    "    \n",
    "    #split arrays into left and right portions\n",
    "    return merge(merge_sort(arr[:mid]), merge_sort(arr[mid:]))\n",
    "\n",
    "merge_sort([9,6,2,4,1,8])"
   ]
  }
 ],
 "metadata": {
  "colab": {
   "authorship_tag": "ABX9TyN9Y0pw0uBCZqjrQHz4bA2m",
   "name": "Section 1: Algorithms and Data Structures.ipynb",
   "provenance": []
  },
  "kernelspec": {
   "display_name": "Python 3",
   "language": "python",
   "name": "python3"
  },
  "language_info": {
   "codemirror_mode": {
    "name": "ipython",
    "version": 3
   },
   "file_extension": ".py",
   "mimetype": "text/x-python",
   "name": "python",
   "nbconvert_exporter": "python",
   "pygments_lexer": "ipython3",
   "version": "3.8.1"
  }
 },
 "nbformat": 4,
 "nbformat_minor": 1
}
