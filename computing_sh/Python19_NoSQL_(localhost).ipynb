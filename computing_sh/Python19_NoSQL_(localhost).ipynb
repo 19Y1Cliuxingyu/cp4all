{
 "cells": [
  {
   "cell_type": "markdown",
   "metadata": {},
   "source": [
    "# PyMongo\n",
    "\n",
    "Start the MongoDB server before running\n",
    "- On Windows, click on the application to run the server\n",
    "- On Mac, run ```brew services start mongodb-community@4.2``` (depending on what version you have downloaded)"
   ]
  },
  {
   "cell_type": "code",
   "execution_count": 22,
   "metadata": {
    "id": "eBANE6-lLOMP"
   },
   "outputs": [
    {
     "name": "stdout",
     "output_type": "stream",
     "text": [
      "<pymongo.cursor.Cursor object at 0x7f812cff0a00>\n"
     ]
    }
   ],
   "source": [
    "import pymongo\n",
    "\n",
    "# create client connection to database\n",
    "client = pymongo.MongoClient(\"localhost\", 27017)\n",
    "# client = pymongo.MongoClient('127.0.0.1', 27017)\n",
    "\n",
    "# create database\n",
    "library = client[\"library\"]\n",
    "\n",
    "# create collection\n",
    "books = library[\"books\"]\n",
    "\n",
    "# insert document\n",
    "# document = { \"_id\":1, \"book_title\":\"Tom's adventures\"}\n",
    "# document = { \"_id\":2, \"book_title\":\"Mary's happy day\"}\n",
    "# x = collection.insert_one(document)\n",
    "# print(x.inserted_id)\n",
    "\n",
    "# query documents\n",
    "results = books.find({})\n",
    "print(results) # returns a cursor object\n",
    "for result in results:\n",
    "    print(result) # empty database currently\n",
    "\n",
    "# close client connection\n",
    "client.close()"
   ]
  },
  {
   "cell_type": "markdown",
   "metadata": {},
   "source": [
    "# NoSQL\n",
    "- Optional fields\n",
    "- Different field types"
   ]
  },
  {
   "cell_type": "markdown",
   "metadata": {},
   "source": [
    "## Load Data into Database\n",
    "\n",
    "### Define schema (dynamic, so it can be changed)\n",
    "```\n",
    "{\"uid\": STRING,\n",
    "\"book_title\" STRING,\n",
    "\"subject\": STRING,\n",
    "\"summary\": STRING,\n",
    "\"author_name\": STRING,\n",
    "\"published\": STRING,\n",
    "\"language\": STRING}\n",
    "```"
   ]
  },
  {
   "cell_type": "code",
   "execution_count": 23,
   "metadata": {},
   "outputs": [
    {
     "name": "stdout",
     "output_type": "stream",
     "text": [
      "{'_id': 'c4489a23-e67b-4e1b-8864-029a22ae8f08', 'book_title': 'Air Sebelanga', 'subject': 'Under One Sky', 'summary': 'Apabila Nalini hanya mampu mendapatkan sebelanga air untuk hari itu, dia bimbang akan leteran ibu mentuanya. Sedang dia sibuk menyelesaikan masalahnya, tidak ramai yang sedia membantu.', 'author_name': 'Fehmida Zakeer', 'published': 2013, 'language': 'may'}\n"
     ]
    }
   ],
   "source": [
    "import csv\n",
    "\n",
    "data_link = \"Datasets/data.gov.sg/national-library-board-read-singapore-short-stories/national-library-board-read-short-story.csv\"\n",
    "\n",
    "with open (data_link, \"r\") as data_file:\n",
    "    # csv allows easy reading of data files with defined delimiter\n",
    "    file_data = csv.reader(data_file, delimiter=\",\") # returns a csv object\n",
    "    file_data = [data for data in file_data]\n",
    "\n",
    "# print(file_data[0])\n",
    "# fields:\n",
    "# ['uid', 'book_title', 'subject', 'summary', 'original_publisher', \n",
    "# 'digital_publisher', 'format', 'language', 'copyright', 'author_name', \n",
    "# 'published', 'resource_url', 'cover', 'thumbnail']\n",
    "\n",
    "books_data = [] # store all data as an array of dictionaries\n",
    "for i in range (1, len(file_data)): # skip initial header row\n",
    "    data = file_data[i]\n",
    "    books_data.append({\n",
    "        \"_id\": data[0],\n",
    "        \"book_title\": data[1],\n",
    "        \"subject\": data[2],\n",
    "        \"summary\": data[3],\n",
    "        \"author_name\": data[9],\n",
    "        \"published\": int(data[10]),\n",
    "        \"language\": data[7]\n",
    "    })\n",
    "\n",
    "print(books_data[0])"
   ]
  },
  {
   "cell_type": "markdown",
   "metadata": {},
   "source": [
    "# CRUD: Create, Read, Update, Delete\n",
    "\n",
    "### C - create/insert\n",
    "### R - read/select/query\n",
    "### U - update/edit\n",
    "### D - delete/remove"
   ]
  },
  {
   "cell_type": "markdown",
   "metadata": {},
   "source": [
    "## CREATE (INSERT)"
   ]
  },
  {
   "cell_type": "code",
   "execution_count": 24,
   "metadata": {},
   "outputs": [
    {
     "name": "stdout",
     "output_type": "stream",
     "text": [
      "Inserted successfully!\n",
      "--------------------------------------------------\n",
      "<pymongo.cursor.Cursor object at 0x7f812cff01f0>\n",
      "{'_id': 'c4489a23-e67b-4e1b-8864-029a22ae8f08', 'book_title': 'Air Sebelanga', 'subject': 'Under One Sky', 'summary': 'Apabila Nalini hanya mampu mendapatkan sebelanga air untuk hari itu, dia bimbang akan leteran ibu mentuanya. Sedang dia sibuk menyelesaikan masalahnya, tidak ramai yang sedia membantu.', 'author_name': 'Fehmida Zakeer', 'published': 2013, 'language': 'may'}\n",
      "{'_id': '4793b784-868f-4238-9a1a-58698f27f46d', 'book_title': 'A Mother Like Her', 'subject': 'Roads Less Travelled', 'summary': 'A couple anticipated the birth of their first child and hoped that they could raise him to be a model citizen. However the father, the sole breadwinner of the family, passed away suddenly. The burden was placed on the young uneducated widow to raise her child alone. Determined to fulfill her husband’s dream, she worked day and night. Her continued absence from home had an adverse effect on her son. He took a deadly path that shattered the mother. She made a bold decision to save her only child.', 'author_name': 'R. Thuraimanikam', 'published': 2010, 'language': 'eng'}\n"
     ]
    }
   ],
   "source": [
    "import pymongo\n",
    "\n",
    "# create client connection to database\n",
    "client = pymongo.MongoClient(\"localhost\", 27017)\n",
    "# client = pymongo.MongoClient('127.0.0.1', 27017)\n",
    "\n",
    "# get database\n",
    "library = client[\"library\"]\n",
    "\n",
    "# get collection\n",
    "books = library[\"books\"]\n",
    "\n",
    "# load data into collection\n",
    "books.insert_many(books_data)\n",
    "print(\"Inserted successfully!\")\n",
    "\n",
    "print(\"-\" * 50)\n",
    "\n",
    "# query documents\n",
    "results = books.find({}).limit(2) # limit(n) returns first n items\n",
    "print(results) # returns a cursor object\n",
    "for result in results:\n",
    "    print(result) # empty database currently\n",
    "\n",
    "# close client connection\n",
    "client.close()"
   ]
  },
  {
   "cell_type": "markdown",
   "metadata": {},
   "source": [
    "## READ (QUERY)"
   ]
  },
  {
   "cell_type": "code",
   "execution_count": 37,
   "metadata": {
    "id": "CExHewRUotv3"
   },
   "outputs": [
    {
     "name": "stdout",
     "output_type": "stream",
     "text": [
      "Querying all data...\n",
      "{'_id': 'c4489a23-e67b-4e1b-8864-029a22ae8f08', 'book_title': 'Air Sebelanga', 'language': 'may'}\n",
      "{'_id': '4793b784-868f-4238-9a1a-58698f27f46d', 'book_title': 'A Mother Like Her', 'language': 'eng'}\n",
      "--------------------------------------------------\n",
      "Sorting all data by year published...\n",
      "{'_id': 'fbd91bae-3852-4dbb-91a3-c0edb27f23f4', 'book_title': 'Gypsies', 'published': 2007, 'language': 'eng'}\n",
      "{'_id': 'c64eb6ea-1243-41d3-b855-3731620797b9', 'book_title': 'Lee', 'published': 2007, 'language': 'eng'}\n",
      "{'_id': 'b4a0ccbf-eb1f-4088-a6d7-4d3a169ffa55', 'book_title': 'Morning Dew', 'published': 2007, 'language': 'eng'}\n",
      "{'_id': '9c657242-8467-4820-9a61-9bf4eaecd20f', 'book_title': 'Tanjong Rhu', 'published': 2007, 'language': 'eng'}\n",
      "{'_id': '5e4e02be-c565-47f4-9112-60d070a25c77', 'book_title': 'Teenagers', 'published': 2007, 'language': 'eng'}\n",
      "--------------------------------------------------\n",
      "Getting all data where year published >= 2013...\n",
      "{'_id': 'c4489a23-e67b-4e1b-8864-029a22ae8f08', 'book_title': 'Air Sebelanga', 'published': 2013, 'language': 'may'}\n",
      "{'_id': '99a42c1d-8944-4c8d-b911-8d6b342ae911', 'book_title': 'An Ode to Darkness', 'published': 2013, 'language': 'eng'}\n",
      "--------------------------------------------------\n",
      "Getting all data where length of book_title <= 10...\n",
      "{'_id': 'e0fc1164-a5d4-4e80-9154-0ce92af3c182', 'book_title': 'Bond', 'language': 'eng'}\n",
      "{'_id': '6e84a69f-747b-4414-b4a9-a68044e95167', 'book_title': 'Cows', 'language': 'eng'}\n",
      "{'_id': 'ca96764f-6f48-4fe0-ba37-77e6c36b8d64', 'book_title': 'Dalam Lif', 'language': 'may'}\n",
      "{'_id': '2be1ccfe-3c5d-453a-9a33-9b2d966d1cc1', 'book_title': 'Encounter', 'language': 'eng'}\n",
      "{'_id': 'a25a36a7-70ab-4b0d-ace8-c90e94d9480f', 'book_title': 'Ever After', 'language': 'eng'}\n",
      "--------------------------------------------------\n",
      "Getting all data where length of book_title <= 10 AND language is English...\n",
      "{'_id': 'e0fc1164-a5d4-4e80-9154-0ce92af3c182', 'book_title': 'Bond', 'language': 'eng'}\n",
      "{'_id': '6e84a69f-747b-4414-b4a9-a68044e95167', 'book_title': 'Cows', 'language': 'eng'}\n",
      "{'_id': '2be1ccfe-3c5d-453a-9a33-9b2d966d1cc1', 'book_title': 'Encounter', 'language': 'eng'}\n",
      "{'_id': 'a25a36a7-70ab-4b0d-ace8-c90e94d9480f', 'book_title': 'Ever After', 'language': 'eng'}\n",
      "{'_id': 'fbd91bae-3852-4dbb-91a3-c0edb27f23f4', 'book_title': 'Gypsies', 'language': 'eng'}\n",
      "--------------------------------------------------\n",
      "Getting all data where subject is 'Under One Sky' OR language is Malay...\n",
      "{'_id': 'c4489a23-e67b-4e1b-8864-029a22ae8f08', 'book_title': 'Air Sebelanga', 'subject': 'Under One Sky', 'language': 'may'}\n",
      "{'_id': '99a42c1d-8944-4c8d-b911-8d6b342ae911', 'book_title': 'An Ode to Darkness', 'subject': 'Under One Sky', 'language': 'eng'}\n",
      "{'_id': '0264f17f-a664-46a4-a1cf-cb2f22d87bc9', 'book_title': 'As Good As New', 'subject': 'Under One Sky', 'language': 'eng'}\n",
      "{'_id': '83a6417d-0335-4988-80d8-f619677cd11d', 'book_title': 'Bagaimana Harimau Mendapat Jalur-jalurnya', 'subject': 'Under One Sky', 'language': 'may'}\n",
      "{'_id': 'e0fc1164-a5d4-4e80-9154-0ce92af3c182', 'book_title': 'Bond', 'subject': 'Under One Sky', 'language': 'eng'}\n",
      "--------------------------------------------------\n"
     ]
    }
   ],
   "source": [
    "# NoSQL\n",
    "# - optional fields\n",
    "# - different field types\n",
    "\n",
    "import pymongo\n",
    "import json\n",
    "\n",
    "# load / loads\n",
    "# dump / dumps\n",
    "\n",
    "# create connection\n",
    "client = pymongo.MongoClient('localhost', 27017)\n",
    "\n",
    "# create database\n",
    "library = client[\"library\"]\n",
    "\n",
    "# create collection\n",
    "books = library[\"books\"] # equivalent to table in SQL\n",
    "\n",
    "print(\"Querying all data...\")\n",
    "query = {}\n",
    "fields = {\"book_title\": 1, \"language\": 1} # fields that we want to return (leave it empty to return all fields)\n",
    "results = books.find(query, fields).limit(2)\n",
    "for result in results:\n",
    "    print(result)\n",
    "print(\"-\" * 50)\n",
    "\n",
    "print(\"Sorting all data by year published...\")\n",
    "query = {}\n",
    "fields = {\"book_title\": 1, \n",
    "          \"language\": 1,\n",
    "         \"published\": 1} # fields that we want to return (leave it empty to return all fields)\n",
    "results = books.find(query, fields).sort(\"published\", pymongo.ASCENDING).limit(5) # sort in ascending order\n",
    "for result in results:\n",
    "    print(result)\n",
    "print(\"-\" * 50)\n",
    "\n",
    "print(\"Getting all data where year published >= 2013...\")\n",
    "query = {\"published\": {\"$gte\": 2013}} # gte (>=), gt (>), lte (<=), lt (<)\n",
    "fields = {\"book_title\": 1, \n",
    "          \"language\": 1,\n",
    "         \"published\": 1} # fields that we want to return (leave it empty to return all fields)\n",
    "results = books.find(query, fields).limit(2)\n",
    "for result in results:\n",
    "    print(result)\n",
    "print(\"-\" * 50)\n",
    "\n",
    "print(\"Getting all data where length of book_title <= 10...\")\n",
    "length = 10\n",
    "query = {\"$where\": f\"this.book_title.length <= {length}\"} # use f-string for easy formatting\n",
    "fields = {\"book_title\": 1, \n",
    "          \"language\": 1} # fields that we want to return (leave it empty to return all fields)\n",
    "results = books.find(query, fields).limit(5)\n",
    "for result in results:\n",
    "    print(result)\n",
    "print(\"-\" * 50)\n",
    "\n",
    "print(\"Getting all data where length of book_title <= 10 AND language is English...\")\n",
    "length = 10\n",
    "query = {\"$and\": [{\"$where\": f\"this.book_title.length <= {length}\"}, {\"language\": \"eng\"}]}\n",
    "fields = {\"book_title\": 1, \n",
    "          \"language\": 1} # fields that we want to return (leave it empty to return all fields)\n",
    "results = books.find(query, fields).limit(5)\n",
    "for result in results:\n",
    "    print(result)\n",
    "print(\"-\" * 50)\n",
    "\n",
    "print(\"Getting all data where subject is 'Under One Sky' OR language is Malay...\")\n",
    "length = 10\n",
    "query = {\"$or\": [{\"subject\": \"Under One Sky\"}, {\"language\": \"may\"}]}\n",
    "fields = {\"book_title\": 1, \n",
    "          \"language\": 1,\n",
    "         \"subject\": 1} # fields that we want to return (leave it empty to return all fields)\n",
    "results = books.find(query, fields).limit(5)\n",
    "for result in results:\n",
    "    print(result)\n",
    "print(\"-\" * 50)\n",
    "\n",
    "\n",
    "# close connection\n",
    "client.close()"
   ]
  },
  {
   "cell_type": "markdown",
   "metadata": {},
   "source": [
    "## UPDATE (SET)"
   ]
  },
  {
   "cell_type": "code",
   "execution_count": 40,
   "metadata": {
    "id": "DkqsHQeu6dHE"
   },
   "outputs": [
    {
     "name": "stdout",
     "output_type": "stream",
     "text": [
      "Inserted successfully!\n"
     ]
    }
   ],
   "source": [
    "# programming style\n",
    "##- meaningful identifier names\n",
    "##- appropriate comments\n",
    "##- appropriate white space (blank lines, indentation, spaces)\n",
    "\n",
    "# import module\n",
    "import pymongo\n",
    "\n",
    "# create connection to MongoDB server\n",
    "# localhost = 127.0.0.1\n",
    "client = pymongo.MongoClient(\"localhost\", 27017)\n",
    "\n",
    "# get database\n",
    "library = client[\"library\"] \n",
    "\n",
    "# get collection\n",
    "books = library[\"books\"]\n",
    "\n",
    "# insert into collection\n",
    "\n",
    "# {\"uid\": STRING,\n",
    "# \"book_title\" STRING,\n",
    "# \"subject\": STRING,\n",
    "# \"summary\": STRING,\n",
    "# \"author_name\": STRING,\n",
    "# \"published\": STRING,\n",
    "# \"language\": STRING}\n",
    "\n",
    "# automatically assigned unique _id if not set\n",
    "\n",
    "# dynamic schema and data type\n",
    "documents = [\n",
    "    {\"_id\": 234, \"book_title\": \"Father Night\", \"author_name\": \"Kurt\", \n",
    "     \"publisher\": \"APress\", \"page_count\": 433, \"published\": \"2018\"},\n",
    "    {\"_id\": 134, \"book_title\": \"Mother Night\", \"author_name\": [\"Kurt\", \"Dan\"], \n",
    "     \"publisher\": \"APress\", \"published\": \"2015\"},\n",
    "    {\"_id\": 334, \"book_title\": \"Programming C## 6.0\", \"author_name\": [\"Andrew\", \"Dan\"], \n",
    "     \"page_count\": 300, \"published\": \"2000\"},\n",
    "    {\"_id\": 534, \"book_title\": \"Introduction to Python\", \n",
    "     \"publisher\": \"MPH\", \"published\": \"1999\"},\n",
    "    {\"_id\": 434, \"book_title\": \"Travel with Dogs\", \"author_name\": \"Andy\", \n",
    "     \"publisher\": \"APress\", \"page_count\": 100, \"published\": \"2017\"}\n",
    "]             \n",
    "books.insert_many(documents)\n",
    "print(\"Inserted successfully!\")\n",
    "\n",
    "# close connection\n",
    "client.close()"
   ]
  },
  {
   "cell_type": "code",
   "execution_count": 48,
   "metadata": {},
   "outputs": [
    {
     "name": "stdout",
     "output_type": "stream",
     "text": [
      "Get title, author for books published in 2015\n",
      "{'_id': 134, 'book_title': 'Mother Night', 'author_name': ['Kurt', 'Dan']}\n",
      "--------------------------------------------------\n",
      "Get books where 100 <= page_count < 400\n",
      "{'_id': 334, 'book_title': 'Programming C## 6.0', 'author_name': ['Andrew', 'Dan'], 'page_count': 300, 'published': '2000'}\n",
      "{'_id': 434, 'book_title': 'Travel with Dogs', 'author_name': 'Andy', 'publisher': 'APress', 'page_count': 100, 'published': '2017'}\n",
      "--------------------------------------------------\n",
      "Update page_count for documents without page_count to 'Less Than 100 Pages'\n",
      "{'_id': 'c4489a23-e67b-4e1b-8864-029a22ae8f08', 'book_title': 'Air Sebelanga', 'subject': 'Under One Sky', 'summary': 'Apabila Nalini hanya mampu mendapatkan sebelanga air untuk hari itu, dia bimbang akan leteran ibu mentuanya. Sedang dia sibuk menyelesaikan masalahnya, tidak ramai yang sedia membantu.', 'author_name': 'Fehmida Zakeer', 'published': 2013, 'language': 'may', 'page_count': 'Less Than 100 Pages'}\n",
      "{'_id': '4793b784-868f-4238-9a1a-58698f27f46d', 'book_title': 'A Mother Like Her', 'subject': 'Roads Less Travelled', 'summary': 'A couple anticipated the birth of their first child and hoped that they could raise him to be a model citizen. However the father, the sole breadwinner of the family, passed away suddenly. The burden was placed on the young uneducated widow to raise her child alone. Determined to fulfill her husband’s dream, she worked day and night. Her continued absence from home had an adverse effect on her son. He took a deadly path that shattered the mother. She made a bold decision to save her only child.', 'author_name': 'R. Thuraimanikam', 'published': 2010, 'language': 'eng', 'page_count': 'Less Than 100 Pages'}\n",
      "{'_id': '99a42c1d-8944-4c8d-b911-8d6b342ae911', 'book_title': 'An Ode to Darkness', 'subject': 'Under One Sky', 'summary': \"The protagonist's thumb was stung by a bee and even after she pulled out the bee stinger, the overwhelming pain caused him to lose sleep. She woke up trying to relieve the pain using various methods like rinsing the thumb under cold running water, applying toothpaste on it, etc. However, the pain did not go away. Out of desperation, she drew the curtains and looked out of the window, pleading to Heaven for help. It was then she realised the beauty of the darkness.\", 'author_name': 'Chi Zi Jian', 'published': 2013, 'language': 'eng', 'page_count': 'Less Than 100 Pages'}\n",
      "{'_id': '0264f17f-a664-46a4-a1cf-cb2f22d87bc9', 'book_title': 'As Good As New', 'subject': 'Under One Sky', 'summary': 'The protagonist and her nephew witnessed how the exhumers dug out her late mother’s grave to retrieve her disinterred remains for cremation. The jade bangle that had been on Mother’s wrist when she was buried, was still intact and had not lost its shine. The jade bangle rekindled fond memories of Mother.', 'author_name': 'Dr Lau Wai Har', 'published': 2013, 'language': 'eng', 'page_count': 'Less Than 100 Pages'}\n",
      "{'_id': '5a94555c-4d0b-4932-a666-1366afd2f8b7', 'book_title': 'Badang The Strongman of Singapura', 'subject': 'Bridges', 'summary': 'Badang is a poor, young slave who is given superhuman strength that makes him the strongest man in Singapura. When word of his strength gets out, he receives invitations to challenges from the strongest men in the region. Is Badang the strongest of them all?', 'author_name': 'retold by Kiran Shah', 'published': 2012, 'language': 'eng', 'page_count': 'Less Than 100 Pages'}\n",
      "--------------------------------------------------\n"
     ]
    }
   ],
   "source": [
    "# programming style\n",
    "##- meaningful identifier names\n",
    "##- appropriate comments\n",
    "##- appropriate white space (blank lines, indentation, spaces)\n",
    "\n",
    "# import module\n",
    "import pymongo\n",
    "\n",
    "# create connection to MongoDB server\n",
    "# localhost = 127.0.0.1\n",
    "client = pymongo.MongoClient(\"localhost\", 27017)\n",
    "\n",
    "# get database\n",
    "library = client[\"library\"] \n",
    "\n",
    "# get collection\n",
    "books = library[\"books\"]\n",
    "\n",
    "\n",
    "print(\"Get title, author for books published in 2015\")\n",
    "criteria = {\"published\": \"2015\"}\n",
    "docs = books.find(criteria, {\"book_title\": 1, \"author_name\": 1})\n",
    "for doc in docs:\n",
    "    print(doc)\n",
    "print(\"-\" * 50)\n",
    "\n",
    "print(\"Get books where 100 <= page_count < 400\")\n",
    "criteria = {\"$and\": [{\"page_count\": { \"$gte\": 100 }}, {\"page_count\": { \"$lt\": 400 }}]}\n",
    "# criteria = {\"page_count\": {\"$gte\":100, \"$lt\":400}}\n",
    "docs = books.find(criteria)\n",
    "for doc in docs:\n",
    "    print(doc)   \n",
    "print(\"-\" * 50)\n",
    "\n",
    "print(\"Update page_count for documents without page_count to 'Less Than 100 Pages'\")\n",
    "criteria = {\"page_count\": {\"$exists\": False}}\n",
    "new_value = {\"$set\": {\"page_count\": \"Less Than 100 Pages\"}}\n",
    "books.update_many(criteria, new_value)\n",
    "docs = books.find().limit(5)\n",
    "for doc in docs:\n",
    "    print(doc)\n",
    "print(\"-\" * 50)\n",
    "\n",
    "\n",
    "# close connection\n",
    "client.close()"
   ]
  },
  {
   "cell_type": "markdown",
   "metadata": {},
   "source": [
    "## DELETE"
   ]
  },
  {
   "cell_type": "code",
   "execution_count": 51,
   "metadata": {},
   "outputs": [
    {
     "name": "stdout",
     "output_type": "stream",
     "text": [
      "Delete documents with 'Less Than 100 Pages'\n",
      "There were initially 120 documents, but now there are 119 documents matching the criteria.\n",
      "--------------------------------------------------\n"
     ]
    }
   ],
   "source": [
    "# programming style\n",
    "##- meaningful identifier names\n",
    "##- appropriate comments\n",
    "##- appropriate white space (blank lines, indentation, spaces)\n",
    "\n",
    "# import module\n",
    "import pymongo\n",
    "\n",
    "# create connection to MongoDB server\n",
    "# localhost = 127.0.0.1\n",
    "client = pymongo.MongoClient(\"localhost\", 27017)\n",
    "\n",
    "# get database\n",
    "library = client[\"library\"] \n",
    "\n",
    "# get collection\n",
    "books = library[\"books\"]\n",
    "\n",
    "print(\"Delete documents with 'Less Than 100 Pages'\")\n",
    "criteria = {\"page_count\": \"Less Than 100 Pages\"}\n",
    "initial_count = books.count_documents(criteria)\n",
    "books.delete_one(criteria) # delete one\n",
    "final_count = books.count_documents(criteria)\n",
    "docs = books.find(criteria)\n",
    "print(f\"There were initially {initial_count} documents, but now there are {final_count} documents matching the criteria.\")\n",
    "print(\"-\" * 50)\n",
    "\n",
    "# close connection\n",
    "client.close()"
   ]
  },
  {
   "cell_type": "code",
   "execution_count": 52,
   "metadata": {},
   "outputs": [
    {
     "name": "stdout",
     "output_type": "stream",
     "text": [
      "Delete all documents with subject 'Under One Sky'\n",
      "There were initially 59 documents, but now there are 0 documents matching the criteria.\n",
      "--------------------------------------------------\n"
     ]
    }
   ],
   "source": [
    "# programming style\n",
    "##- meaningful identifier names\n",
    "##- appropriate comments\n",
    "##- appropriate white space (blank lines, indentation, spaces)\n",
    "\n",
    "# import module\n",
    "import pymongo\n",
    "\n",
    "# create connection to MongoDB server\n",
    "# localhost = 127.0.0.1\n",
    "client = pymongo.MongoClient(\"localhost\", 27017)\n",
    "\n",
    "# get database\n",
    "library = client[\"library\"] \n",
    "\n",
    "# get collection\n",
    "books = library[\"books\"]\n",
    "\n",
    "print(\"Delete all documents with subject 'Under One Sky'\")\n",
    "criteria = {\"subject\": \"Under One Sky\"}\n",
    "initial_count = books.count_documents(criteria)\n",
    "books.delete_many(criteria) # delete all matching\n",
    "final_count = books.count_documents(criteria)\n",
    "docs = books.find(criteria)\n",
    "print(f\"There were initially {initial_count} documents, but now there are {final_count} documents matching the criteria.\")\n",
    "print(\"-\" * 50)\n",
    "\n",
    "# close connection\n",
    "client.close()"
   ]
  },
  {
   "cell_type": "code",
   "execution_count": 53,
   "metadata": {},
   "outputs": [
    {
     "name": "stdout",
     "output_type": "stream",
     "text": [
      "Removed books collection!\n",
      "Removed library database!\n"
     ]
    }
   ],
   "source": [
    "# programming style\n",
    "##- meaningful identifier names\n",
    "##- appropriate comments\n",
    "##- appropriate white space (blank lines, indentation, spaces)\n",
    "\n",
    "# import module\n",
    "import pymongo\n",
    "\n",
    "# create connection to MongoDB server\n",
    "# localhost = 127.0.0.1\n",
    "client = pymongo.MongoClient(\"localhost\", 27017)\n",
    "\n",
    "# get database\n",
    "library = client[\"library\"] \n",
    "\n",
    "# get collection\n",
    "books = library[\"books\"]\n",
    "\n",
    "# delete colleciton\n",
    "library.drop_collection(books)\n",
    "print(\"Removed books collection!\")\n",
    "\n",
    "client.drop_database(library)\n",
    "print(\"Removed library database!\")\n",
    "\n",
    "# close connection\n",
    "client.close()"
   ]
  }
 ],
 "metadata": {
  "colab": {
   "name": "Python19 - NoSQL (localhost).ipynb",
   "provenance": []
  },
  "kernelspec": {
   "display_name": "Python 3",
   "language": "python",
   "name": "python3"
  },
  "language_info": {
   "codemirror_mode": {
    "name": "ipython",
    "version": 3
   },
   "file_extension": ".py",
   "mimetype": "text/x-python",
   "name": "python",
   "nbconvert_exporter": "python",
   "pygments_lexer": "ipython3",
   "version": "3.8.0"
  }
 },
 "nbformat": 4,
 "nbformat_minor": 1
}
