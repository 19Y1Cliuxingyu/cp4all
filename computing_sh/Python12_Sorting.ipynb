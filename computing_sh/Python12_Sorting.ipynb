{
  "nbformat": 4,
  "nbformat_minor": 0,
  "metadata": {
    "colab": {
      "name": "Python12 - Sorting.ipynb",
      "provenance": []
    },
    "kernelspec": {
      "name": "python3",
      "display_name": "Python 3"
    }
  },
  "cells": [
    {
      "cell_type": "markdown",
      "metadata": {
        "id": "vNPV_CUHkl6O"
      },
      "source": [
        "# Sorting"
      ]
    },
    {
      "cell_type": "markdown",
      "metadata": {
        "id": "LmjuZGunkw8P"
      },
      "source": [
        "## Bubble sort"
      ]
    },
    {
      "cell_type": "code",
      "metadata": {
        "id": "KM9SKmYpkWTW"
      },
      "source": [
        "# bubble sort"
      ],
      "execution_count": null,
      "outputs": []
    },
    {
      "cell_type": "markdown",
      "metadata": {
        "id": "X5E7x1bskrJt"
      },
      "source": [
        "## Insertion sort"
      ]
    },
    {
      "cell_type": "code",
      "metadata": {
        "id": "Wq82MGrjkc0p"
      },
      "source": [
        "# insertion sort"
      ],
      "execution_count": null,
      "outputs": []
    },
    {
      "cell_type": "markdown",
      "metadata": {
        "id": "FizoLT-AkqWd"
      },
      "source": [
        "## Selection sort"
      ]
    },
    {
      "cell_type": "code",
      "metadata": {
        "id": "dkEFpNN-ken9"
      },
      "source": [
        "# selection sort"
      ],
      "execution_count": null,
      "outputs": []
    },
    {
      "cell_type": "markdown",
      "metadata": {
        "id": "BlDJ1i41lBum"
      },
      "source": [
        "## Quick sort"
      ]
    },
    {
      "cell_type": "code",
      "metadata": {
        "id": "O32NygMulBDG"
      },
      "source": [
        "# quick sort"
      ],
      "execution_count": null,
      "outputs": []
    },
    {
      "cell_type": "markdown",
      "metadata": {
        "id": "c713fkXQkr5n"
      },
      "source": [
        "## Merge sort  "
      ]
    },
    {
      "cell_type": "code",
      "metadata": {
        "id": "jrVvOqDXkiSd"
      },
      "source": [
        "# merge sort"
      ],
      "execution_count": null,
      "outputs": []
    }
  ]
}