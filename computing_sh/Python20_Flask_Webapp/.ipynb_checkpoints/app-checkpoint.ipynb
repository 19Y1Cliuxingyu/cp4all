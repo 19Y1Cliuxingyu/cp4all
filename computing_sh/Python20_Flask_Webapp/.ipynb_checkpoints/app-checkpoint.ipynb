{
 "cells": [
  {
   "cell_type": "markdown",
   "metadata": {},
   "source": [
    "# Basic flask app"
   ]
  },
  {
   "cell_type": "code",
   "execution_count": null,
   "metadata": {},
   "outputs": [],
   "source": [
    "from flask import Flask, render_template\n",
    "\n",
    "app = Flask(__name__)  # create a flask endpoint\n",
    "\n",
    "@app.route('/')  # default route\n",
    "def index():\n",
    "    return render_template(\"index.html\")\n",
    "\n",
    "# starts the app, specifying the ip address and port number\n",
    "app.run(\"127.0.0.1\", port = 5000, debug = True)\n",
    "\n",
    "# debug = True should only be when running using a command line interface, \n",
    "# which is NOT applicable under A-level exam conditions (2020)"
   ]
  },
  {
   "cell_type": "markdown",
   "metadata": {},
   "source": [
    "# Form-getter"
   ]
  },
  {
   "cell_type": "code",
   "execution_count": null,
   "metadata": {},
   "outputs": [
    {
     "name": "stdout",
     "output_type": "stream",
     "text": [
      " * Serving Flask app \"__main__\" (lazy loading)\n",
      " * Environment: production\n",
      "   WARNING: This is a development server. Do not use it in a production deployment.\n",
      "   Use a production WSGI server instead.\n",
      " * Debug mode: off\n"
     ]
    },
    {
     "name": "stderr",
     "output_type": "stream",
     "text": [
      " * Running on http://127.0.0.1:5000/ (Press CTRL+C to quit)\n",
      "127.0.0.1 - - [12/Oct/2020 21:52:28] \"\u001b[32mGET /submit HTTP/1.1\u001b[0m\" 302 -\n",
      "127.0.0.1 - - [12/Oct/2020 21:52:28] \"\u001b[37mGET /form HTTP/1.1\u001b[0m\" 200 -\n"
     ]
    }
   ],
   "source": [
    "from flask import Flask, render_template, request, redirect, url_for  # important!\n",
    "\n",
    "app = Flask(__name__)  # create a flask endpoint\n",
    "\n",
    "@app.route('/')  # default route\n",
    "def index():\n",
    "    return render_template(\"index.html\")\n",
    "\n",
    "@app.route('/form')  # route for displaying form\n",
    "def form():\n",
    "    return render_template(\"form.html\")\n",
    "\n",
    "@app.route('/submit', methods = [\"GET\", \"POST\"])  # this route acceps two methods, \"get\" and \"post\"\n",
    "def submit():\n",
    "    # if a form was submitted\n",
    "    if request.method == \"post\":\n",
    "        \n",
    "        # get the username and password\n",
    "        username = request.form.get(\"username\")\n",
    "        password = request.form.get(\"user_password\")\n",
    "        print(username, password)\n",
    "        \n",
    "        # return a html file showing the username\n",
    "        return render_template(\"success.html\", username = username)\n",
    "    else:\n",
    "        return redirect('/form')\n",
    "\n",
    "app.run(\"127.0.0.1\", port = 5000)\n"
   ]
  },
  {
   "cell_type": "markdown",
   "metadata": {},
   "source": [
    "# File-data getter"
   ]
  },
  {
   "cell_type": "code",
   "execution_count": null,
   "metadata": {},
   "outputs": [
    {
     "name": "stdout",
     "output_type": "stream",
     "text": [
      " * Serving Flask app \"__main__\" (lazy loading)\n",
      " * Serving Flask app \"__main__\" (lazy loading)\n",
      " * Environment: production\n",
      " * Serving Flask app \"__main__\" (lazy loading)\n",
      " * Environment: production\n",
      "   WARNING: This is a development server. Do not use it in a production deployment.\n",
      "   Use a production WSGI server instead.\n",
      " * Debug mode: off\n",
      "   WARNING: This is a development server. Do not use it in a production deployment.\n",
      "   Use a production WSGI server instead.\n",
      " * Debug mode: off\n",
      " * Environment: production\n",
      "   WARNING: This is a development server. Do not use it in a production deployment.\n",
      "   Use a production WSGI server instead.\n",
      " * Debug mode: off\n"
     ]
    },
    {
     "name": "stderr",
     "output_type": "stream",
     "text": [
      " * Running on http://127.0.0.1:5000/ (Press CTRL+C to quit)\n",
      " * Running on http://127.0.0.1:5000/ (Press CTRL+C to quit)\n",
      " * Running on http://127.0.0.1:5000/ (Press CTRL+C to quit)\n",
      "127.0.0.1 - - [12/Oct/2020 22:15:56] \"\u001b[37mPOST /submit HTTP/1.1\u001b[0m\" 200 -\n",
      "127.0.0.1 - - [12/Oct/2020 22:15:56] \"\u001b[37mPOST /submit HTTP/1.1\u001b[0m\" 200 -\n",
      "127.0.0.1 - - [12/Oct/2020 22:15:56] \"\u001b[37mPOST /submit HTTP/1.1\u001b[0m\" 200 -\n",
      "127.0.0.1 - - [12/Oct/2020 22:15:56] \"\u001b[33mGET /uploads/images_2.jpeg HTTP/1.1\u001b[0m\" 404 -\n",
      "127.0.0.1 - - [12/Oct/2020 22:15:56] \"\u001b[33mGET /uploads/images_2.jpeg HTTP/1.1\u001b[0m\" 404 -\n",
      "127.0.0.1 - - [12/Oct/2020 22:15:56] \"\u001b[33mGET /uploads/images_2.jpeg HTTP/1.1\u001b[0m\" 404 -\n"
     ]
    },
    {
     "name": "stdout",
     "output_type": "stream",
     "text": [
      "ok\n",
      "POST\n",
      "ok\n",
      "['__bool__', '__class__', '__delattr__', '__dict__', '__dir__', '__doc__', '__eq__', '__format__', '__ge__', '__getattr__', '__getattribute__', '__gt__', '__hash__', '__init__', '__init_subclass__', '__iter__', '__le__', '__lt__', '__module__', '__ne__', '__new__', '__nonzero__', '__reduce__', '__reduce_ex__', '__repr__', '__setattr__', '__sizeof__', '__str__', '__subclasshook__', '__weakref__', '_parse_content_type', 'close', 'content_length', 'content_type', 'filename', 'headers', 'mimetype', 'mimetype_params', 'name', 'save', 'stream']\n",
      "langkong l4ngk0ng\n",
      "ok\n",
      "POST\n",
      "ok\n",
      "['__bool__', '__class__', '__delattr__', '__dict__', '__dir__', '__doc__', '__eq__', '__format__', '__ge__', '__getattr__', '__getattribute__', '__gt__', '__hash__', '__init__', '__init_subclass__', '__iter__', '__le__', '__lt__', '__module__', '__ne__', '__new__', '__nonzero__', '__reduce__', '__reduce_ex__', '__repr__', '__setattr__', '__sizeof__', '__str__', '__subclasshook__', '__weakref__', '_parse_content_type', 'close', 'content_length', 'content_type', 'filename', 'headers', 'mimetype', 'mimetype_params', 'name', 'save', 'stream']\n",
      "langkong l4ngk0ng\n",
      "ok\n",
      "POST\n",
      "ok\n",
      "['__bool__', '__class__', '__delattr__', '__dict__', '__dir__', '__doc__', '__eq__', '__format__', '__ge__', '__getattr__', '__getattribute__', '__gt__', '__hash__', '__init__', '__init_subclass__', '__iter__', '__le__', '__lt__', '__module__', '__ne__', '__new__', '__nonzero__', '__reduce__', '__reduce_ex__', '__repr__', '__setattr__', '__sizeof__', '__str__', '__subclasshook__', '__weakref__', '_parse_content_type', 'close', 'content_length', 'content_type', 'filename', 'headers', 'mimetype', 'mimetype_params', 'name', 'save', 'stream']\n",
      "langkong l4ngk0ng\n"
     ]
    },
    {
     "name": "stderr",
     "output_type": "stream",
     "text": [
      "127.0.0.1 - - [12/Oct/2020 22:16:07] \"\u001b[33mGET /uploads/images_2.jpeg HTTP/1.1\u001b[0m\" 404 -\n",
      "127.0.0.1 - - [12/Oct/2020 22:16:07] \"\u001b[33mGET /uploads/images_2.jpeg HTTP/1.1\u001b[0m\" 404 -\n",
      "127.0.0.1 - - [12/Oct/2020 22:16:07] \"\u001b[33mGET /uploads/images_2.jpeg HTTP/1.1\u001b[0m\" 404 -\n",
      "127.0.0.1 - - [12/Oct/2020 22:16:46] \"\u001b[33mGET /uploads/images_2.jpeg HTTP/1.1\u001b[0m\" 404 -\n",
      "127.0.0.1 - - [12/Oct/2020 22:16:46] \"\u001b[33mGET /uploads/images_2.jpeg HTTP/1.1\u001b[0m\" 404 -\n",
      "127.0.0.1 - - [12/Oct/2020 22:16:46] \"\u001b[33mGET /uploads/images_2.jpeg HTTP/1.1\u001b[0m\" 404 -\n"
     ]
    }
   ],
   "source": [
    "from flask import Flask, render_template, request, redirect, url_for  # important!\n",
    "\n",
    "app = Flask(__name__)  # create a flask endpoint\n",
    "\n",
    "@app.route('/')  # default route\n",
    "def index():\n",
    "    return render_template(\"index.html\")\n",
    "\n",
    "@app.route('/form')  # route for displaying form\n",
    "def form():\n",
    "    return render_template(\"form-file.html\")\n",
    "\n",
    "@app.route('/submit', methods = [\"GET\", \"POST\"])  # this route acceps two methods, \"get\" and \"post\"\n",
    "def submit():\n",
    "    # if a form was submitted\n",
    "    if request.method == \"POST\":\n",
    "        \n",
    "        # get the file \n",
    "        user_file = request.files[\"photo\"]\n",
    "        #print(dir(user_file))\n",
    "        \n",
    "        # save the uploaded file\n",
    "        user_file.save(f\"./uploads/{user_file.filename}\")\n",
    "        \n",
    "        username = request.form.get(\"username\")\n",
    "        password = request.form.get(\"user_password\")\n",
    "        print(username, password)\n",
    "        return render_template(\"success-file.html\", username = username)\n",
    "    else:\n",
    "        return redirect('/form')\n",
    "\n",
    "app.run(\"127.0.0.1\", port = 5000)\n"
   ]
  },
  {
   "cell_type": "code",
   "execution_count": null,
   "metadata": {},
   "outputs": [],
   "source": []
  }
 ],
 "metadata": {
  "kernelspec": {
   "display_name": "Python 3",
   "language": "python",
   "name": "python3"
  },
  "language_info": {
   "codemirror_mode": {
    "name": "ipython",
    "version": 3
   },
   "file_extension": ".py",
   "mimetype": "text/x-python",
   "name": "python",
   "nbconvert_exporter": "python",
   "pygments_lexer": "ipython3",
   "version": "3.8.5"
  }
 },
 "nbformat": 4,
 "nbformat_minor": 4
}
